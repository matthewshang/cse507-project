{
 "cells": [
  {
   "cell_type": "markdown",
   "metadata": {},
   "source": [
    "# Slow"
   ]
  },
  {
   "cell_type": "code",
   "execution_count": 2,
   "metadata": {},
   "outputs": [],
   "source": [
    "import itertools\n",
    "from z3 import *\n",
    "\n",
    "# A Slice is a 2x2 grid representing Life state at a specific time.\n",
    "Slice = list[list[ExprRef]]\n",
    "\n",
    "def make_life(solver: Solver, grid_size: int, time_steps: int) -> list[Slice]:\n",
    "    # Create a (time steps) x (grid size) x (grid size) array of symbolic variables.\n",
    "    vars = [[[Bool(f's_{t}_{i}_{j}') for j in range(grid_size)] for i in range(grid_size)] for t in range(time_steps)]\n",
    "\n",
    "    for t in range(1, time_steps):\n",
    "        for i, j in itertools.product(range(grid_size), range(grid_size)):\n",
    "            bs = []\n",
    "            for di, dj in itertools.product(range(-1, 2), range(-1, 2)):\n",
    "                if di == dj == 0:\n",
    "                    continue\n",
    "                if 0 <= i + di < grid_size and 0 <= j + dj < grid_size:\n",
    "                    bs.append(vars[t - 1][i + di][j + dj])\n",
    "            prev = vars[t - 1][i][j]\n",
    "            next = vars[t    ][i][j]\n",
    "            count_2 = z3.PbEq([(b, 1) for b in bs], 2)\n",
    "            count_3 = z3.PbEq([(b, 1) for b in bs], 3)\n",
    "            solver.add(Implies(And(prev, Not(next)), Not(Or(count_2, count_3))))\n",
    "            solver.add(Implies(And(prev, next), Or(count_2, count_3)))\n",
    "            solver.add(Implies(And(Not(prev), next), count_3))\n",
    "            solver.add(Implies(And(Not(prev), Not(next)), Not(count_3)))\n",
    "    return vars\n",
    "\n",
    "def print_model(model: ModelRef, state: list[Slice]) -> None:\n",
    "    \"\"\"Pretty print the model for the given state.\"\"\"\n",
    "    for t, s in enumerate(state):\n",
    "        print(f\"t = {t}\")\n",
    "        for i in range(len(s)):\n",
    "            for j in range(len(s[0])):\n",
    "                print(1 if model[state[t][i][j]] else 0, end=\" \")\n",
    "            print()\n",
    "        print()\n",
    "\n",
    "def constrain(solver: Solver, s: Slice, on: set[tuple[int, int]]):\n",
    "    \"\"\"Constrain the given slice to be on at the given coordinates.\"\"\"\n",
    "    for i in range(len(s)):\n",
    "        for j in range(len(s[0])):\n",
    "            if (i, j) in on:\n",
    "                solver.add(s[i][j])\n",
    "            else:\n",
    "                solver.add(Not(s[i][j]))\n"
   ]
  },
  {
   "cell_type": "code",
   "execution_count": 4,
   "metadata": {},
   "outputs": [
    {
     "name": "stdout",
     "output_type": "stream",
     "text": [
      "t = 0\n",
      "0 0 0 0 0 \n",
      "0 1 1 0 0 \n",
      "0 1 1 0 0 \n",
      "0 0 0 0 0 \n",
      "0 0 0 0 0 \n",
      "\n",
      "t = 1\n",
      "0 0 0 0 0 \n",
      "0 1 1 0 0 \n",
      "0 1 1 0 0 \n",
      "0 0 0 0 0 \n",
      "0 0 0 0 0 \n",
      "\n",
      "t = 2\n",
      "0 0 0 0 0 \n",
      "0 1 1 0 0 \n",
      "0 1 1 0 0 \n",
      "0 0 0 0 0 \n",
      "0 0 0 0 0 \n",
      "\n",
      "t = 3\n",
      "0 0 0 0 0 \n",
      "0 1 1 0 0 \n",
      "0 1 1 0 0 \n",
      "0 0 0 0 0 \n",
      "0 0 0 0 0 \n",
      "\n"
     ]
    }
   ],
   "source": [
    "# Sanity check: 2x2 grid stays still\n",
    "solver = Solver()\n",
    "state = make_life(solver, grid_size=5, time_steps=4)\n",
    "constrain(solver, state[0], set([(1, 1), (1, 2), (2, 1), (2, 2)]))\n",
    "solver.check()\n",
    "model = solver.model()\n",
    "print_model(model, state)\n"
   ]
  },
  {
   "cell_type": "code",
   "execution_count": 5,
   "metadata": {},
   "outputs": [
    {
     "name": "stdout",
     "output_type": "stream",
     "text": [
      "t = 0\n",
      "0 1 0 \n",
      "0 1 0 \n",
      "0 1 0 \n",
      "\n",
      "t = 1\n",
      "0 0 0 \n",
      "1 1 1 \n",
      "0 0 0 \n",
      "\n",
      "t = 2\n",
      "0 1 0 \n",
      "0 1 0 \n",
      "0 1 0 \n",
      "\n",
      "t = 3\n",
      "0 0 0 \n",
      "1 1 1 \n",
      "0 0 0 \n",
      "\n"
     ]
    }
   ],
   "source": [
    "# Sanity check: 1x3 rotation\n",
    "solver = Solver()\n",
    "state = make_life(solver, grid_size=3, time_steps=4)\n",
    "constrain(solver, state[0], set([(0, 1), (1, 1), (2, 1)]))\n",
    "solver.check()\n",
    "model = solver.model()\n",
    "print_model(model, state)"
   ]
  },
  {
   "cell_type": "code",
   "execution_count": 6,
   "metadata": {},
   "outputs": [
    {
     "name": "stdout",
     "output_type": "stream",
     "text": [
      "t = 0\n",
      "0 1 0 0 0 0 \n",
      "0 0 1 0 0 0 \n",
      "1 1 1 0 0 0 \n",
      "0 0 0 0 0 0 \n",
      "0 0 0 0 0 0 \n",
      "0 0 0 0 0 0 \n",
      "\n",
      "t = 1\n",
      "0 0 0 0 0 0 \n",
      "1 0 1 0 0 0 \n",
      "0 1 1 0 0 0 \n",
      "0 1 0 0 0 0 \n",
      "0 0 0 0 0 0 \n",
      "0 0 0 0 0 0 \n",
      "\n",
      "t = 2\n",
      "0 0 0 0 0 0 \n",
      "0 0 1 0 0 0 \n",
      "1 0 1 0 0 0 \n",
      "0 1 1 0 0 0 \n",
      "0 0 0 0 0 0 \n",
      "0 0 0 0 0 0 \n",
      "\n",
      "t = 3\n",
      "0 0 0 0 0 0 \n",
      "0 1 0 0 0 0 \n",
      "0 0 1 1 0 0 \n",
      "0 1 1 0 0 0 \n",
      "0 0 0 0 0 0 \n",
      "0 0 0 0 0 0 \n",
      "\n",
      "t = 4\n",
      "0 0 0 0 0 0 \n",
      "0 0 1 0 0 0 \n",
      "0 0 0 1 0 0 \n",
      "0 1 1 1 0 0 \n",
      "0 0 0 0 0 0 \n",
      "0 0 0 0 0 0 \n",
      "\n",
      "t = 5\n",
      "0 0 0 0 0 0 \n",
      "0 0 0 0 0 0 \n",
      "0 1 0 1 0 0 \n",
      "0 0 1 1 0 0 \n",
      "0 0 1 0 0 0 \n",
      "0 0 0 0 0 0 \n",
      "\n"
     ]
    }
   ],
   "source": [
    "# Sanity check: glider\n",
    "solver = Solver()\n",
    "state = make_life(solver, grid_size=6, time_steps=6)\n",
    "constrain(solver, state[0], set([(0, 1), (1, 2), (2, 0), (2, 1), (2, 2)]))\n",
    "solver.check()\n",
    "model = solver.model()\n",
    "print_model(model, state)\n"
   ]
  },
  {
   "cell_type": "code",
   "execution_count": 7,
   "metadata": {},
   "outputs": [
    {
     "name": "stdout",
     "output_type": "stream",
     "text": [
      "t = 0\n",
      "0 0 0 1 1 0 \n",
      "0 0 0 0 0 0 \n",
      "0 0 1 1 0 1 \n",
      "1 0 0 1 1 1 \n",
      "0 0 0 0 1 0 \n",
      "1 0 1 0 0 1 \n",
      "\n",
      "t = 1\n",
      "0 0 0 0 0 0 \n",
      "0 0 1 0 0 0 \n",
      "0 0 1 1 0 1 \n",
      "0 0 1 0 0 1 \n",
      "0 1 0 0 0 0 \n",
      "0 0 0 0 0 0 \n",
      "\n",
      "t = 2\n",
      "0 0 0 0 0 0 \n",
      "0 0 1 1 0 0 \n",
      "0 1 1 1 1 0 \n",
      "0 1 1 1 1 0 \n",
      "0 0 0 0 0 0 \n",
      "0 0 0 0 0 0 \n",
      "\n",
      "t = 3\n",
      "0 0 0 0 0 0 \n",
      "0 1 0 0 1 0 \n",
      "0 0 0 0 0 0 \n",
      "0 1 0 0 1 0 \n",
      "0 0 1 1 0 0 \n",
      "0 0 0 0 0 0 \n",
      "\n"
     ]
    }
   ],
   "source": [
    "# Backwards: smiley\n",
    "solver = Solver()\n",
    "state = make_life(solver, grid_size=6, time_steps=4)\n",
    "constrain(solver, state[-1], set([(1, 1), (1, 4), (3, 1), (3, 4), (4, 2), (4, 3)]))\n",
    "solver.check()\n",
    "model = solver.model()\n",
    "print_model(model, state)\n"
   ]
  },
  {
   "cell_type": "code",
   "execution_count": 6,
   "metadata": {},
   "outputs": [
    {
     "name": "stdout",
     "output_type": "stream",
     "text": [
      "t = 0\n",
      "0 0 0 0 0 0 \n",
      "0 0 0 0 0 0 \n",
      "1 1 1 0 0 0 \n",
      "0 0 0 0 0 0 \n",
      "0 0 0 0 0 0 \n",
      "0 0 0 0 0 0 \n",
      "\n",
      "t = 1\n",
      "0 0 0 0 0 0 \n",
      "0 1 0 0 0 0 \n",
      "0 1 0 0 0 0 \n",
      "0 1 0 0 0 0 \n",
      "0 0 0 0 0 0 \n",
      "0 0 0 0 0 0 \n",
      "\n",
      "t = 2\n",
      "0 0 0 0 0 0 \n",
      "0 0 0 0 0 0 \n",
      "1 1 1 0 0 0 \n",
      "0 0 0 0 0 0 \n",
      "0 0 0 0 0 0 \n",
      "0 0 0 0 0 0 \n",
      "\n"
     ]
    }
   ],
   "source": [
    "# Glider discovery\n",
    "solver = Solver()\n",
    "state = make_life(solver, grid_size=6, time_steps=3)\n",
    "for i in range(6):\n",
    "    for j in range(6):\n",
    "        solver.add(state[0][i][j] == state[-1][i][j])\n",
    "solver.add(state[0][1][1] != state[1][1][1])\n",
    "solver.check()\n",
    "model = solver.model()\n",
    "print_model(model, state)"
   ]
  },
  {
   "cell_type": "code",
   "execution_count": 7,
   "metadata": {},
   "outputs": [
    {
     "ename": "Z3Exception",
     "evalue": "model is not available",
     "output_type": "error",
     "traceback": [
      "\u001b[0;31m---------------------------------------------------------------------------\u001b[0m",
      "\u001b[0;31mZ3Exception\u001b[0m                               Traceback (most recent call last)",
      "File \u001b[0;32m/opt/homebrew/anaconda3/envs/z3/lib/python3.10/site-packages/z3/z3.py:7131\u001b[0m, in \u001b[0;36mSolver.model\u001b[0;34m(self)\u001b[0m\n\u001b[1;32m   7130\u001b[0m \u001b[39mtry\u001b[39;00m:\n\u001b[0;32m-> 7131\u001b[0m     \u001b[39mreturn\u001b[39;00m ModelRef(Z3_solver_get_model(\u001b[39mself\u001b[39;49m\u001b[39m.\u001b[39;49mctx\u001b[39m.\u001b[39;49mref(), \u001b[39mself\u001b[39;49m\u001b[39m.\u001b[39;49msolver), \u001b[39mself\u001b[39m\u001b[39m.\u001b[39mctx)\n\u001b[1;32m   7132\u001b[0m \u001b[39mexcept\u001b[39;00m Z3Exception:\n",
      "File \u001b[0;32m/opt/homebrew/anaconda3/envs/z3/lib/python3.10/site-packages/z3/z3core.py:4185\u001b[0m, in \u001b[0;36mZ3_solver_get_model\u001b[0;34m(a0, a1, _elems)\u001b[0m\n\u001b[1;32m   4184\u001b[0m r \u001b[39m=\u001b[39m _elems\u001b[39m.\u001b[39mf(a0, a1)\n\u001b[0;32m-> 4185\u001b[0m _elems\u001b[39m.\u001b[39;49mCheck(a0)\n\u001b[1;32m   4186\u001b[0m \u001b[39mreturn\u001b[39;00m r\n",
      "File \u001b[0;32m/opt/homebrew/anaconda3/envs/z3/lib/python3.10/site-packages/z3/z3core.py:1505\u001b[0m, in \u001b[0;36mElementaries.Check\u001b[0;34m(self, ctx)\u001b[0m\n\u001b[1;32m   1504\u001b[0m \u001b[39mif\u001b[39;00m err \u001b[39m!=\u001b[39m \u001b[39mself\u001b[39m\u001b[39m.\u001b[39mOK:\n\u001b[0;32m-> 1505\u001b[0m     \u001b[39mraise\u001b[39;00m \u001b[39mself\u001b[39m\u001b[39m.\u001b[39mException(\u001b[39mself\u001b[39m\u001b[39m.\u001b[39mget_error_message(ctx, err))\n",
      "\u001b[0;31mZ3Exception\u001b[0m: b'there is no current model'",
      "\nDuring handling of the above exception, another exception occurred:\n",
      "\u001b[0;31mZ3Exception\u001b[0m                               Traceback (most recent call last)",
      "\u001b[0;32m/var/folders/4n/tk88gh753hg3bgrtc8t7jjyr0000gn/T/ipykernel_55635/830701650.py\u001b[0m in \u001b[0;36m?\u001b[0;34m()\u001b[0m\n\u001b[1;32m      2\u001b[0m \u001b[0msolver\u001b[0m \u001b[0;34m=\u001b[0m \u001b[0mSolver\u001b[0m\u001b[0;34m(\u001b[0m\u001b[0;34m)\u001b[0m\u001b[0;34m\u001b[0m\u001b[0;34m\u001b[0m\u001b[0m\n\u001b[1;32m      3\u001b[0m \u001b[0mstate\u001b[0m \u001b[0;34m=\u001b[0m \u001b[0mmake_life\u001b[0m\u001b[0;34m(\u001b[0m\u001b[0msolver\u001b[0m\u001b[0;34m,\u001b[0m \u001b[0mgrid_size\u001b[0m\u001b[0;34m=\u001b[0m\u001b[0;36m25\u001b[0m\u001b[0;34m,\u001b[0m \u001b[0mtime_steps\u001b[0m\u001b[0;34m=\u001b[0m\u001b[0;36m3\u001b[0m\u001b[0;34m)\u001b[0m\u001b[0;34m\u001b[0m\u001b[0;34m\u001b[0m\u001b[0m\n\u001b[1;32m      4\u001b[0m \u001b[0mconstrain\u001b[0m\u001b[0;34m(\u001b[0m\u001b[0msolver\u001b[0m\u001b[0;34m,\u001b[0m \u001b[0mstate\u001b[0m\u001b[0;34m[\u001b[0m\u001b[0;34m-\u001b[0m\u001b[0;36m1\u001b[0m\u001b[0;34m]\u001b[0m\u001b[0;34m,\u001b[0m \u001b[0mset\u001b[0m\u001b[0;34m(\u001b[0m\u001b[0;34m[\u001b[0m\u001b[0;34m(\u001b[0m\u001b[0;36m5\u001b[0m\u001b[0;34m,\u001b[0m \u001b[0;36m5\u001b[0m\u001b[0;34m)\u001b[0m\u001b[0;34m,\u001b[0m \u001b[0;34m(\u001b[0m\u001b[0;36m5\u001b[0m\u001b[0;34m,\u001b[0m \u001b[0;36m8\u001b[0m\u001b[0;34m)\u001b[0m\u001b[0;34m,\u001b[0m \u001b[0;34m(\u001b[0m\u001b[0;36m7\u001b[0m\u001b[0;34m,\u001b[0m \u001b[0;36m5\u001b[0m\u001b[0;34m)\u001b[0m\u001b[0;34m,\u001b[0m \u001b[0;34m(\u001b[0m\u001b[0;36m7\u001b[0m\u001b[0;34m,\u001b[0m \u001b[0;36m8\u001b[0m\u001b[0;34m)\u001b[0m\u001b[0;34m,\u001b[0m \u001b[0;34m(\u001b[0m\u001b[0;36m8\u001b[0m\u001b[0;34m,\u001b[0m \u001b[0;36m6\u001b[0m\u001b[0;34m)\u001b[0m\u001b[0;34m,\u001b[0m \u001b[0;34m(\u001b[0m\u001b[0;36m8\u001b[0m\u001b[0;34m,\u001b[0m \u001b[0;36m7\u001b[0m\u001b[0;34m)\u001b[0m\u001b[0;34m]\u001b[0m\u001b[0;34m)\u001b[0m\u001b[0;34m)\u001b[0m\u001b[0;34m\u001b[0m\u001b[0;34m\u001b[0m\u001b[0m\n\u001b[1;32m      5\u001b[0m \u001b[0msolver\u001b[0m\u001b[0;34m.\u001b[0m\u001b[0mcheck\u001b[0m\u001b[0;34m(\u001b[0m\u001b[0;34m)\u001b[0m\u001b[0;34m\u001b[0m\u001b[0;34m\u001b[0m\u001b[0m\n\u001b[0;32m----> 6\u001b[0;31m \u001b[0mmodel\u001b[0m \u001b[0;34m=\u001b[0m \u001b[0msolver\u001b[0m\u001b[0;34m.\u001b[0m\u001b[0mmodel\u001b[0m\u001b[0;34m(\u001b[0m\u001b[0;34m)\u001b[0m\u001b[0;34m\u001b[0m\u001b[0;34m\u001b[0m\u001b[0m\n\u001b[0m\u001b[1;32m      7\u001b[0m \u001b[0mprint_model\u001b[0m\u001b[0;34m(\u001b[0m\u001b[0mmodel\u001b[0m\u001b[0;34m,\u001b[0m \u001b[0mstate\u001b[0m\u001b[0;34m)\u001b[0m\u001b[0;34m\u001b[0m\u001b[0;34m\u001b[0m\u001b[0m\n",
      "\u001b[0;32m/opt/homebrew/anaconda3/envs/z3/lib/python3.10/site-packages/z3/z3.py\u001b[0m in \u001b[0;36m?\u001b[0;34m(self)\u001b[0m\n\u001b[1;32m   7129\u001b[0m         \"\"\"\n\u001b[1;32m   7130\u001b[0m         \u001b[0;32mtry\u001b[0m\u001b[0;34m:\u001b[0m\u001b[0;34m\u001b[0m\u001b[0;34m\u001b[0m\u001b[0m\n\u001b[1;32m   7131\u001b[0m             \u001b[0;32mreturn\u001b[0m \u001b[0mModelRef\u001b[0m\u001b[0;34m(\u001b[0m\u001b[0mZ3_solver_get_model\u001b[0m\u001b[0;34m(\u001b[0m\u001b[0mself\u001b[0m\u001b[0;34m.\u001b[0m\u001b[0mctx\u001b[0m\u001b[0;34m.\u001b[0m\u001b[0mref\u001b[0m\u001b[0;34m(\u001b[0m\u001b[0;34m)\u001b[0m\u001b[0;34m,\u001b[0m \u001b[0mself\u001b[0m\u001b[0;34m.\u001b[0m\u001b[0msolver\u001b[0m\u001b[0;34m)\u001b[0m\u001b[0;34m,\u001b[0m \u001b[0mself\u001b[0m\u001b[0;34m.\u001b[0m\u001b[0mctx\u001b[0m\u001b[0;34m)\u001b[0m\u001b[0;34m\u001b[0m\u001b[0;34m\u001b[0m\u001b[0m\n\u001b[1;32m   7132\u001b[0m         \u001b[0;32mexcept\u001b[0m \u001b[0mZ3Exception\u001b[0m\u001b[0;34m:\u001b[0m\u001b[0;34m\u001b[0m\u001b[0;34m\u001b[0m\u001b[0m\n\u001b[0;32m-> 7133\u001b[0;31m             \u001b[0;32mraise\u001b[0m \u001b[0mZ3Exception\u001b[0m\u001b[0;34m(\u001b[0m\u001b[0;34m\"model is not available\"\u001b[0m\u001b[0;34m)\u001b[0m\u001b[0;34m\u001b[0m\u001b[0;34m\u001b[0m\u001b[0m\n\u001b[0m",
      "\u001b[0;31mZ3Exception\u001b[0m: model is not available"
     ]
    }
   ],
   "source": [
    "# Backwards: big smiley\n",
    "solver = Solver()\n",
    "state = make_life(solver, grid_size=25, time_steps=3)\n",
    "constrain(solver, state[-1], set([(5, 5), (5, 8), (7, 5), (7, 8), (8, 6), (8, 7)]))\n",
    "solver.check()\n",
    "model = solver.model()\n",
    "print_model(model, state)"
   ]
  }
 ],
 "metadata": {
  "kernelspec": {
   "display_name": "z3",
   "language": "python",
   "name": "python3"
  },
  "language_info": {
   "codemirror_mode": {
    "name": "ipython",
    "version": 3
   },
   "file_extension": ".py",
   "mimetype": "text/x-python",
   "name": "python",
   "nbconvert_exporter": "python",
   "pygments_lexer": "ipython3",
   "version": "3.10.13"
  }
 },
 "nbformat": 4,
 "nbformat_minor": 2
}
