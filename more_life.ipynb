{
 "cells": [
  {
   "cell_type": "code",
   "execution_count": 1,
   "metadata": {},
   "outputs": [],
   "source": [
    "import itertools\n",
    "import z3\n",
    "from golz3 import *"
   ]
  },
  {
   "cell_type": "code",
   "execution_count": null,
   "metadata": {},
   "outputs": [],
   "source": []
  },
  {
   "cell_type": "markdown",
   "metadata": {},
   "source": [
    "## Forward (sanity check)"
   ]
  },
  {
   "cell_type": "code",
   "execution_count": 2,
   "metadata": {},
   "outputs": [
    {
     "name": "stdout",
     "output_type": "stream",
     "text": [
      "t = 0\n",
      "0 0 0 0 0 \n",
      "0 1 1 0 0 \n",
      "0 1 1 0 0 \n",
      "0 0 0 0 0 \n",
      "0 0 0 0 0 \n",
      "\n",
      "t = 1\n",
      "0 0 0 0 0 \n",
      "0 1 1 0 0 \n",
      "0 1 1 0 0 \n",
      "0 0 0 0 0 \n",
      "0 0 0 0 0 \n",
      "\n",
      "t = 2\n",
      "0 0 0 0 0 \n",
      "0 1 1 0 0 \n",
      "0 1 1 0 0 \n",
      "0 0 0 0 0 \n",
      "0 0 0 0 0 \n",
      "\n",
      "t = 3\n",
      "0 0 0 0 0 \n",
      "0 1 1 0 0 \n",
      "0 1 1 0 0 \n",
      "0 0 0 0 0 \n",
      "0 0 0 0 0 \n",
      "\n"
     ]
    }
   ],
   "source": [
    "# Sanity check: 2x2 grid stays still\n",
    "solver = z3.Solver()\n",
    "state = make_life(solver, grid_size=5, time_steps=4)\n",
    "constrain(solver, state[0], set([(1, 1), (1, 2), (2, 1), (2, 2)]))\n",
    "solver.check()\n",
    "model = solver.model()\n",
    "print_model(model, state)\n"
   ]
  },
  {
   "cell_type": "code",
   "execution_count": 3,
   "metadata": {},
   "outputs": [
    {
     "name": "stdout",
     "output_type": "stream",
     "text": [
      "t = 0\n",
      "0 1 0 \n",
      "0 1 0 \n",
      "0 1 0 \n",
      "\n",
      "t = 1\n",
      "0 0 0 \n",
      "1 1 1 \n",
      "0 0 0 \n",
      "\n",
      "t = 2\n",
      "0 1 0 \n",
      "0 1 0 \n",
      "0 1 0 \n",
      "\n",
      "t = 3\n",
      "0 0 0 \n",
      "1 1 1 \n",
      "0 0 0 \n",
      "\n"
     ]
    }
   ],
   "source": [
    "# Sanity check: 1x3 rotation\n",
    "solver = z3.Solver()\n",
    "state = make_life(solver, grid_size=3, time_steps=4)\n",
    "constrain(solver, state[0], set([(0, 1), (1, 1), (2, 1)]))\n",
    "solver.check()\n",
    "model = solver.model()\n",
    "print_model(model, state)"
   ]
  },
  {
   "cell_type": "code",
   "execution_count": 4,
   "metadata": {},
   "outputs": [
    {
     "name": "stdout",
     "output_type": "stream",
     "text": [
      "t = 0\n",
      "0 1 0 0 0 0 \n",
      "0 0 1 0 0 0 \n",
      "1 1 1 0 0 0 \n",
      "0 0 0 0 0 0 \n",
      "0 0 0 0 0 0 \n",
      "0 0 0 0 0 0 \n",
      "\n",
      "t = 1\n",
      "0 0 0 0 0 0 \n",
      "1 0 1 0 0 0 \n",
      "0 1 1 0 0 0 \n",
      "0 1 0 0 0 0 \n",
      "0 0 0 0 0 0 \n",
      "0 0 0 0 0 0 \n",
      "\n",
      "t = 2\n",
      "0 0 0 0 0 0 \n",
      "0 0 1 0 0 0 \n",
      "1 0 1 0 0 0 \n",
      "0 1 1 0 0 0 \n",
      "0 0 0 0 0 0 \n",
      "0 0 0 0 0 0 \n",
      "\n",
      "t = 3\n",
      "0 0 0 0 0 0 \n",
      "0 1 0 0 0 0 \n",
      "0 0 1 1 0 0 \n",
      "0 1 1 0 0 0 \n",
      "0 0 0 0 0 0 \n",
      "0 0 0 0 0 0 \n",
      "\n",
      "t = 4\n",
      "0 0 0 0 0 0 \n",
      "0 0 1 0 0 0 \n",
      "0 0 0 1 0 0 \n",
      "0 1 1 1 0 0 \n",
      "0 0 0 0 0 0 \n",
      "0 0 0 0 0 0 \n",
      "\n",
      "t = 5\n",
      "0 0 0 0 0 0 \n",
      "0 0 0 0 0 0 \n",
      "0 1 0 1 0 0 \n",
      "0 0 1 1 0 0 \n",
      "0 0 1 0 0 0 \n",
      "0 0 0 0 0 0 \n",
      "\n"
     ]
    }
   ],
   "source": [
    "# Sanity check: glider\n",
    "solver = z3.Solver()\n",
    "state = make_life(solver, grid_size=6, time_steps=6)\n",
    "constrain(solver, state[0], set([(0, 1), (1, 2), (2, 0), (2, 1), (2, 2)]))\n",
    "solver.check()\n",
    "model = solver.model()\n",
    "print_model(model, state)\n"
   ]
  },
  {
   "cell_type": "markdown",
   "metadata": {},
   "source": [
    "### Forward Edge Cases"
   ]
  },
  {
   "cell_type": "code",
   "execution_count": 10,
   "metadata": {},
   "outputs": [
    {
     "name": "stdout",
     "output_type": "stream",
     "text": [
      "model is not available\n"
     ]
    }
   ],
   "source": [
    "# Edge case: Example of where forward can fail (Tenzin: this has implications\n",
    "# for the results we get from backwards queries too, i.e.: we can get\n",
    "# incorrect sequences I'm pretty sure).\n",
    "# This spinner on the bottom should spin indefinitely, so on t=2, it\n",
    "# should go back to the bottom being set, however instead the solver\n",
    "# predicts that we die out.\n",
    "# One solution is to add a constraint on the imaginary boundary cells,\n",
    "# asserting that they never come alive.\n",
    "solver = z3.Solver()\n",
    "state = make_life(solver, grid_size=35, time_steps=3)\n",
    "constrain(solver, state[0], set([(0, 0), (0, 1), (0, 2)]))\n",
    "\n",
    "# With this line solver will fail to find solution because we enforce that\n",
    "# cells outside play area are never used. (i.e.: exception is expected)\n",
    "constrain_life_boundary(solver, state)\n",
    "\n",
    "result = solver.check()\n",
    "\n",
    "try:\n",
    "    # We expect exception here if constrain_life_boundary is called\n",
    "    model = solver.model()\n",
    "    print_model(model, state)\n",
    "except Exception as e:\n",
    "    print(e)"
   ]
  },
  {
   "cell_type": "markdown",
   "metadata": {},
   "source": [
    "## Backwards"
   ]
  },
  {
   "cell_type": "code",
   "execution_count": 11,
   "metadata": {},
   "outputs": [
    {
     "name": "stdout",
     "output_type": "stream",
     "text": [
      "t = 0\n",
      "1 1 1 0 0 \n",
      "0 1 1 1 1 \n",
      "1 0 1 0 0 \n",
      "0 0 1 0 0 \n",
      "1 0 0 0 0 \n",
      "\n",
      "t = 1\n",
      "1 0 0 0 0 \n",
      "0 0 0 0 0 \n",
      "0 0 0 0 0 \n",
      "0 0 0 0 0 \n",
      "0 0 0 0 0 \n",
      "\n"
     ]
    }
   ],
   "source": [
    "# Backwards: 3x3 corner\n",
    "solver = z3.Solver()\n",
    "state = make_life(solver, grid_size=5, time_steps=2)\n",
    "constrain(solver, state[-1], set([(0,0)]))\n",
    "solver.check()\n",
    "model = solver.model()\n",
    "print_model(model, state)"
   ]
  },
  {
   "cell_type": "code",
   "execution_count": 12,
   "metadata": {},
   "outputs": [
    {
     "name": "stdout",
     "output_type": "stream",
     "text": [
      "t = 0\n",
      "1 1 0 0 0 0 \n",
      "1 0 0 0 1 0 \n",
      "0 0 1 0 1 0 \n",
      "0 0 0 0 0 1 \n",
      "1 1 0 1 0 0 \n",
      "0 0 0 1 0 0 \n",
      "\n",
      "t = 1\n",
      "1 1 0 0 0 0 \n",
      "1 0 0 1 0 0 \n",
      "0 0 0 1 1 1 \n",
      "0 1 1 1 1 0 \n",
      "0 0 1 0 1 0 \n",
      "0 0 1 0 0 0 \n",
      "\n",
      "t = 2\n",
      "1 1 0 0 0 0 \n",
      "1 1 1 1 0 0 \n",
      "0 1 0 0 0 1 \n",
      "0 1 0 0 0 0 \n",
      "0 0 0 0 1 0 \n",
      "0 0 0 1 0 0 \n",
      "\n",
      "t = 3\n",
      "1 0 0 0 0 0 \n",
      "0 0 0 0 0 0 \n",
      "0 0 0 0 0 0 \n",
      "0 0 0 0 0 0 \n",
      "0 0 0 0 0 0 \n",
      "0 0 0 0 0 0 \n",
      "\n"
     ]
    }
   ],
   "source": [
    "# Backwards: smiley\n",
    "solver = z3.Solver()\n",
    "state = make_life(solver, grid_size=6, time_steps=4)\n",
    "constrain(solver, state[-1], set([(0,0)]))\n",
    "solver.check()\n",
    "model = solver.model()\n",
    "print_model(model, state)\n"
   ]
  },
  {
   "cell_type": "code",
   "execution_count": 13,
   "metadata": {},
   "outputs": [
    {
     "name": "stdout",
     "output_type": "stream",
     "text": [
      "t = 0\n",
      "1 1 0 0 0 0 \n",
      "1 1 0 0 1 0 \n",
      "0 0 1 1 0 1 \n",
      "0 0 1 0 0 1 \n",
      "0 1 0 0 0 1 \n",
      "0 0 1 1 1 0 \n",
      "\n",
      "t = 1\n",
      "1 1 0 0 0 0 \n",
      "1 0 0 1 1 0 \n",
      "0 0 1 1 0 1 \n",
      "0 1 1 1 0 1 \n",
      "0 1 0 0 0 1 \n",
      "0 0 1 1 1 0 \n",
      "\n",
      "t = 2\n",
      "1 1 0 0 0 0 \n",
      "1 0 0 1 1 0 \n",
      "0 0 0 0 0 1 \n",
      "0 1 0 1 0 1 \n",
      "0 1 0 0 0 1 \n",
      "0 0 1 1 1 0 \n",
      "\n",
      "t = 3\n",
      "1 1 0 0 0 0 \n",
      "1 1 0 0 1 0 \n",
      "0 0 1 1 0 1 \n",
      "0 0 1 0 0 1 \n",
      "0 1 0 0 0 1 \n",
      "0 0 1 1 1 0 \n",
      "\n"
     ]
    }
   ],
   "source": [
    "# Glider discovery\n",
    "solver = z3.Solver()\n",
    "state = make_life(solver, grid_size=6, time_steps=4)\n",
    "for i in range(6):\n",
    "    for j in range(6):\n",
    "        solver.add(state[0][i][j] == state[-1][i][j])\n",
    "solver.add(state[0][1][1] != state[1][1][1])\n",
    "solver.check()\n",
    "model = solver.model()\n",
    "print_model(model, state)"
   ]
  },
  {
   "cell_type": "code",
   "execution_count": 18,
   "metadata": {},
   "outputs": [
    {
     "name": "stdout",
     "output_type": "stream",
     "text": [
      "t = 0\n",
      "1 0 1 1 1 1 1 0 1 1 0 1 0 0 0 0 1 0 0 0 1 1 1 0 1 \n",
      "0 0 1 1 0 1 1 1 0 1 1 0 0 0 0 0 0 0 1 1 1 1 0 1 1 \n",
      "0 0 1 0 1 1 1 0 0 1 1 1 1 1 1 0 0 0 0 0 1 0 0 1 1 \n",
      "0 1 0 0 1 0 1 0 0 1 0 0 1 1 1 1 1 1 0 1 1 1 1 1 0 \n",
      "0 0 0 0 1 0 1 0 0 0 1 0 0 0 1 0 1 1 1 1 1 0 1 0 0 \n",
      "1 1 1 0 0 0 0 0 0 1 1 1 0 1 1 1 1 1 1 1 1 1 1 1 1 \n",
      "0 0 1 0 0 1 0 1 1 0 1 0 0 1 1 0 1 1 1 1 1 1 1 0 0 \n",
      "0 0 1 0 0 1 1 0 0 0 0 1 0 1 1 1 1 1 0 0 1 0 0 0 0 \n",
      "0 0 1 0 0 0 0 0 0 0 0 0 0 1 0 0 1 1 1 0 1 0 1 0 0 \n",
      "0 0 1 0 0 0 0 1 0 0 0 0 0 1 1 1 0 0 1 0 1 0 1 0 0 \n",
      "1 0 1 1 1 1 0 0 0 1 0 1 1 1 0 0 0 1 0 0 0 1 0 1 1 \n",
      "0 0 0 0 1 1 1 0 1 1 0 1 1 0 1 0 1 1 0 0 1 0 0 1 1 \n",
      "1 0 0 1 1 0 1 1 1 0 1 0 0 0 0 0 0 0 0 0 1 0 1 1 0 \n",
      "1 1 0 0 0 0 0 0 0 1 1 0 0 1 1 0 0 1 1 1 1 0 1 1 0 \n",
      "0 0 0 1 0 0 1 1 0 0 0 0 0 1 0 1 1 1 0 1 1 1 0 1 0 \n",
      "1 0 0 1 1 0 0 1 0 0 1 0 1 0 1 1 1 1 1 1 1 1 0 0 0 \n",
      "0 1 1 0 1 0 0 0 1 1 1 0 0 0 0 1 1 1 1 0 0 1 0 1 0 \n",
      "1 0 1 1 0 0 1 1 0 1 1 1 0 0 0 1 1 0 0 0 0 1 0 1 0 \n",
      "0 0 0 1 1 0 0 0 1 1 1 0 1 0 0 0 1 0 1 0 0 0 0 0 0 \n",
      "0 1 1 0 0 1 1 1 1 1 1 0 0 0 0 1 1 1 0 0 0 0 0 0 1 \n",
      "0 0 0 1 1 1 1 1 1 1 1 1 1 0 0 1 1 0 0 0 1 0 0 0 0 \n",
      "0 0 0 1 1 1 1 1 1 0 1 1 1 1 1 1 1 0 0 0 1 0 0 0 0 \n",
      "1 0 1 1 1 1 1 1 1 1 1 0 1 1 0 1 0 0 0 0 0 0 0 0 0 \n",
      "0 1 1 1 1 1 1 1 1 1 1 1 1 0 0 1 0 0 0 0 0 1 0 0 0 \n",
      "1 1 1 1 1 1 1 1 1 1 1 1 0 1 0 0 0 0 0 0 1 0 0 0 0 \n",
      "\n",
      "t = 1\n",
      "0 1 1 0 0 0 0 0 1 1 0 0 0 0 0 0 0 0 0 0 0 0 1 0 1 \n",
      "0 0 0 0 0 0 0 0 0 0 0 0 0 1 0 0 0 0 0 0 0 0 0 0 0 \n",
      "0 1 1 0 0 0 0 0 0 0 0 0 0 0 0 0 1 1 0 0 0 0 0 0 0 \n",
      "0 0 0 0 1 0 1 1 0 1 0 0 0 0 0 0 0 0 0 0 0 0 0 0 1 \n",
      "1 0 1 1 0 0 0 0 0 0 0 0 0 0 0 0 0 0 0 0 0 0 0 0 1 \n",
      "0 1 1 1 0 1 1 1 1 0 0 1 1 0 0 0 0 0 0 0 0 0 0 0 0 \n",
      "0 0 1 1 0 1 0 1 1 0 0 0 0 0 0 0 0 0 0 0 0 0 0 0 0 \n",
      "0 1 1 1 0 1 1 1 0 0 0 0 0 0 0 0 0 0 0 0 0 0 1 0 0 \n",
      "0 1 1 1 0 0 1 0 0 0 0 0 0 0 0 0 0 0 1 0 1 0 0 0 0 \n",
      "0 0 1 0 1 0 0 0 0 0 0 0 0 0 0 1 0 0 1 0 1 0 1 0 0 \n",
      "0 1 1 0 0 0 0 1 0 1 0 1 0 0 0 0 0 1 1 1 1 1 0 0 1 \n",
      "0 1 1 0 0 0 0 0 0 0 0 0 0 0 0 0 1 1 0 0 1 0 0 0 0 \n",
      "1 1 0 1 1 0 1 0 0 0 0 0 1 0 1 1 1 0 0 0 1 0 0 0 0 \n",
      "1 1 1 1 1 1 0 0 0 1 1 0 0 1 1 1 0 1 0 0 0 0 0 0 1 \n",
      "1 1 1 1 1 0 1 1 1 1 1 1 1 0 0 0 0 0 0 0 0 0 0 1 0 \n",
      "0 1 0 0 1 1 1 1 0 0 1 1 0 1 0 0 0 0 0 0 0 0 0 0 0 \n",
      "1 0 0 0 1 1 1 0 0 0 0 0 0 0 0 0 0 0 0 0 0 1 0 0 0 \n",
      "0 0 0 0 0 1 0 1 0 0 0 0 0 0 0 0 0 0 1 0 0 0 0 0 0 \n",
      "0 0 0 0 1 0 0 0 0 0 0 0 0 0 0 0 0 0 0 0 0 0 0 0 0 \n",
      "0 0 1 0 0 0 0 0 0 0 0 0 1 0 0 0 0 0 0 0 0 0 0 0 0 \n",
      "0 0 0 0 0 0 0 0 0 0 0 0 0 0 0 0 0 0 0 0 0 0 0 0 0 \n",
      "0 0 0 0 0 0 0 0 0 0 0 0 0 0 0 0 0 0 0 0 0 0 0 0 0 \n",
      "0 0 0 0 0 0 0 0 0 0 0 0 0 0 0 0 0 0 0 0 0 0 0 0 0 \n",
      "0 0 0 0 0 0 0 0 0 0 0 0 0 0 0 0 0 0 0 0 0 0 0 0 0 \n",
      "1 0 0 0 0 0 0 0 0 0 0 0 0 0 0 0 0 0 0 0 0 0 0 0 0 \n",
      "\n",
      "t = 2\n",
      "0 0 0 0 0 0 0 0 0 0 0 0 0 0 0 0 0 0 0 0 0 0 0 0 0 \n",
      "0 0 0 0 0 0 0 0 0 0 0 0 0 0 0 0 0 0 0 0 0 0 0 0 0 \n",
      "0 0 0 0 0 0 0 0 0 0 0 0 0 0 0 0 0 0 0 0 0 0 0 0 0 \n",
      "0 0 0 0 0 0 0 0 0 0 0 0 0 0 0 0 0 0 0 0 0 0 0 0 0 \n",
      "0 0 0 0 0 0 0 0 0 0 0 0 0 0 0 0 0 0 0 0 0 0 0 0 0 \n",
      "0 0 0 0 0 1 0 0 1 0 0 0 0 0 0 0 0 0 0 0 0 0 0 0 0 \n",
      "0 0 0 0 0 0 0 0 0 0 0 0 0 0 0 0 0 0 0 0 0 0 0 0 0 \n",
      "0 0 0 0 0 1 0 0 1 0 0 0 0 0 0 0 0 0 0 0 0 0 0 0 0 \n",
      "0 0 0 0 0 0 1 1 0 0 0 0 0 0 0 0 0 0 0 0 0 0 0 0 0 \n",
      "0 0 0 0 0 0 0 0 0 0 0 0 0 0 0 0 0 0 0 0 0 0 0 0 0 \n",
      "0 0 0 0 0 0 0 0 0 0 0 0 0 0 0 0 0 0 0 0 0 0 0 0 0 \n",
      "0 0 0 0 0 0 0 0 0 0 0 0 0 0 0 0 0 0 0 0 0 0 0 0 0 \n",
      "0 0 0 0 0 0 0 0 0 0 0 0 0 0 0 0 0 0 0 0 0 0 0 0 0 \n",
      "0 0 0 0 0 0 0 0 0 0 0 0 0 0 0 0 0 0 0 0 0 0 0 0 0 \n",
      "0 0 0 0 0 0 0 0 0 0 0 0 0 0 0 0 0 0 0 0 0 0 0 0 0 \n",
      "0 0 0 0 0 0 0 0 0 0 0 0 0 0 0 0 0 0 0 0 0 0 0 0 0 \n",
      "0 0 0 0 0 0 0 0 0 0 0 0 0 0 0 0 0 0 0 0 0 0 0 0 0 \n",
      "0 0 0 0 0 0 0 0 0 0 0 0 0 0 0 0 0 0 0 0 0 0 0 0 0 \n",
      "0 0 0 0 0 0 0 0 0 0 0 0 0 0 0 0 0 0 0 0 0 0 0 0 0 \n",
      "0 0 0 0 0 0 0 0 0 0 0 0 0 0 0 0 0 0 0 0 0 0 0 0 0 \n",
      "0 0 0 0 0 0 0 0 0 0 0 0 0 0 0 0 0 0 0 0 0 0 0 0 0 \n",
      "0 0 0 0 0 0 0 0 0 0 0 0 0 0 0 0 0 0 0 0 0 0 0 0 0 \n",
      "0 0 0 0 0 0 0 0 0 0 0 0 0 0 0 0 0 0 0 0 0 0 0 0 0 \n",
      "0 0 0 0 0 0 0 0 0 0 0 0 0 0 0 0 0 0 0 0 0 0 0 0 0 \n",
      "0 0 0 0 0 0 0 0 0 0 0 0 0 0 0 0 0 0 0 0 0 0 0 0 0 \n",
      "\n"
     ]
    }
   ],
   "source": [
    "# Backwards: big smiley\n",
    "solver = z3.Solver()\n",
    "n = 25\n",
    "state = make_life(solver, grid_size=n, time_steps=3)\n",
    "constrain(solver, state[-1], set([(5, 5), (5, 8), (7, 5), (7, 8), (8, 6), (8, 7)]))\n",
    "# for t in range(3):\n",
    "#     solver.add(sum([state[t][i][j] for j in range(n) for i in range(n)]) <= 20)\n",
    "solver.check()\n",
    "model = solver.model()\n",
    "print_model(model, state)"
   ]
  },
  {
   "cell_type": "markdown",
   "metadata": {},
   "source": [
    "## Garden of Eden"
   ]
  },
  {
   "cell_type": "code",
   "execution_count": 7,
   "metadata": {},
   "outputs": [],
   "source": [
    "# Known GoE from wikipedia\n",
    "\n",
    "pat = \"\"\"\n",
    "010110110010\n",
    "001011101110\n",
    "001101110101\n",
    "010111011101\n",
    "111110011110\n",
    "011011101001\n",
    "011101010010\n",
    "011011100110\n",
    "101110111010\n",
    "100110010101\n",
    "000000000010\n",
    "000000000000\n",
    "\"\"\"\n",
    "\n",
    "solver = z3.Solver()\n",
    "state = make_life(solver, grid_size = 14, time_steps = 2)\n",
    "on = set([(i + 1, j + 1) for i, row in enumerate(pat.split()) for j, c in enumerate(row) if c == '1'])\n",
    "constrain(solver, state[-1], on)\n",
    "assert(solver.check() == z3.unsat)\n",
    "from frames import Frames\n",
    "Frames([[[1 if pat.split()[i][j] == '1' else 0 for j in range(12)] for i in range(12)]]).save('garden_of_eden.golz3')"
   ]
  },
  {
   "cell_type": "code",
   "execution_count": 20,
   "metadata": {},
   "outputs": [],
   "source": [
    "# Exhaustive search for Gardens of Eden\n",
    "def all_grids(n):\n",
    "    mask = 0\n",
    "    while mask < 1 << (n * n):\n",
    "        on = set([(i, j) for i in range(n) for j in range(n) if mask & (1 << (i * n + j))])\n",
    "        yield on\n",
    "        mask += 1\n",
    "\n",
    "n = 3\n",
    "for grid in all_grids(n):\n",
    "    solver = z3.Solver()\n",
    "    state = make_life(solver, grid_size=n+2, time_steps=2)\n",
    "    offset_grid = set([(i + 1, j + 1) for i, j in grid])\n",
    "    constrain(solver, state[-1], offset_grid)\n",
    "    if solver.check() == z3.unsat:\n",
    "        # If UNSAT it means we've found a Garden of Eden. At the scales we should be\n",
    "        # able to feasibly run this problem at it probably means we've done something\n",
    "        # wrong if we can find a Garden of Eden lol.\n",
    "        print(f\"Garden of Eden found for {grid}\")\n",
    "        model = solver.model()\n",
    "        print_model(model, state)"
   ]
  },
  {
   "cell_type": "code",
   "execution_count": 3,
   "metadata": {},
   "outputs": [
    {
     "ename": "KeyboardInterrupt",
     "evalue": "",
     "output_type": "error",
     "traceback": [
      "\u001b[0;31m---------------------------------------------------------------------------\u001b[0m",
      "\u001b[0;31mKeyboardInterrupt\u001b[0m                         Traceback (most recent call last)",
      "\u001b[1;32m/Users/matthew/cse507-project/more_life.ipynb Cell 17\u001b[0m line \u001b[0;36m4\n\u001b[1;32m     <a href='vscode-notebook-cell:/Users/matthew/cse507-project/more_life.ipynb#X21sZmlsZQ%3D%3D?line=39'>40</a>\u001b[0m \u001b[39mfor\u001b[39;00m updates \u001b[39min\u001b[39;00m traverse(n):\n\u001b[1;32m     <a href='vscode-notebook-cell:/Users/matthew/cse507-project/more_life.ipynb#X21sZmlsZQ%3D%3D?line=40'>41</a>\u001b[0m     \u001b[39mfor\u001b[39;00m _ \u001b[39min\u001b[39;00m updates:\n\u001b[0;32m---> <a href='vscode-notebook-cell:/Users/matthew/cse507-project/more_life.ipynb#X21sZmlsZQ%3D%3D?line=41'>42</a>\u001b[0m         solver\u001b[39m.\u001b[39;49mpop()\n\u001b[1;32m     <a href='vscode-notebook-cell:/Users/matthew/cse507-project/more_life.ipynb#X21sZmlsZQ%3D%3D?line=42'>43</a>\u001b[0m     \u001b[39mfor\u001b[39;00m i, j, val \u001b[39min\u001b[39;00m updates:\n\u001b[1;32m     <a href='vscode-notebook-cell:/Users/matthew/cse507-project/more_life.ipynb#X21sZmlsZQ%3D%3D?line=43'>44</a>\u001b[0m         solver\u001b[39m.\u001b[39mpush()\n",
      "File \u001b[0;32m/opt/homebrew/anaconda3/envs/z3/lib/python3.10/site-packages/z3/z3.py:6967\u001b[0m, in \u001b[0;36mSolver.pop\u001b[0;34m(self, num)\u001b[0m\n\u001b[1;32m   6947\u001b[0m \u001b[39mdef\u001b[39;00m \u001b[39mpop\u001b[39m(\u001b[39mself\u001b[39m, num\u001b[39m=\u001b[39m\u001b[39m1\u001b[39m):\n\u001b[1;32m   6948\u001b[0m \u001b[39m    \u001b[39m\u001b[39m\"\"\"Backtrack \\\\c num backtracking points.\u001b[39;00m\n\u001b[1;32m   6949\u001b[0m \n\u001b[1;32m   6950\u001b[0m \u001b[39m    >>> x = Int('x')\u001b[39;00m\n\u001b[0;32m   (...)\u001b[0m\n\u001b[1;32m   6965\u001b[0m \u001b[39m    [x > 0]\u001b[39;00m\n\u001b[1;32m   6966\u001b[0m \u001b[39m    \"\"\"\u001b[39;00m\n\u001b[0;32m-> 6967\u001b[0m     Z3_solver_pop(\u001b[39mself\u001b[39;49m\u001b[39m.\u001b[39;49mctx\u001b[39m.\u001b[39;49mref(), \u001b[39mself\u001b[39;49m\u001b[39m.\u001b[39;49msolver, num)\n",
      "File \u001b[0;32m/opt/homebrew/anaconda3/envs/z3/lib/python3.10/site-packages/z3/z3core.py:4043\u001b[0m, in \u001b[0;36mZ3_solver_pop\u001b[0;34m(a0, a1, a2, _elems)\u001b[0m\n\u001b[1;32m   4042\u001b[0m \u001b[39mdef\u001b[39;00m \u001b[39mZ3_solver_pop\u001b[39m(a0, a1, a2, _elems\u001b[39m=\u001b[39mElementaries(_lib\u001b[39m.\u001b[39mZ3_solver_pop)):\n\u001b[0;32m-> 4043\u001b[0m   _elems\u001b[39m.\u001b[39;49mf(a0, a1, a2)\n\u001b[1;32m   4044\u001b[0m   _elems\u001b[39m.\u001b[39mCheck(a0)\n",
      "\u001b[0;31mKeyboardInterrupt\u001b[0m: "
     ]
    }
   ],
   "source": [
    "# Incremental exhaustive search\n",
    "\n",
    "def next(i, j):\n",
    "    j += 1\n",
    "    if j == n:\n",
    "        i += 1\n",
    "        j = 0\n",
    "    return i, j\n",
    "\n",
    "def remaining_grid(n, i, j):\n",
    "    cells = []\n",
    "    while i < n:\n",
    "        cells.append((i, j))\n",
    "        i, j = next(i, j)\n",
    "    return cells\n",
    "\n",
    "def traverse(n):\n",
    "    yield []\n",
    "    def visit(n, i, j):\n",
    "        next_i, next_j = next(i, j)\n",
    "        if next_i != n:\n",
    "            yield from visit(n, next_i, next_j)\n",
    "\n",
    "        if next_i == n:\n",
    "            yield [(i, j, 1)]\n",
    "        else:\n",
    "            yield [(i, j, 1)] + list(map(lambda pos: pos + (0,), remaining_grid(n, next_i, next_j)))\n",
    "            yield from visit(n, next_i, next_j)\n",
    "    yield from visit(n, 0, 0)\n",
    "\n",
    "\n",
    "n = 4\n",
    "solver = z3.Solver()\n",
    "state = make_life(solver, grid_size=n+2, time_steps=2)\n",
    "end = state[-1]\n",
    "for i, j in remaining_grid(n, 0, 0):\n",
    "    solver.push()\n",
    "    solver.add(end[i][j] == 0)\n",
    "\n",
    "for updates in traverse(n):\n",
    "    for _ in updates:\n",
    "        solver.pop()\n",
    "    for i, j, val in updates:\n",
    "        solver.push()\n",
    "        solver.add(end[i + 1][j + 1] == val)\n",
    "    if solver.check() == z3.unsat:\n",
    "        print(f\"no solution\")"
   ]
  },
  {
   "cell_type": "markdown",
   "metadata": {},
   "source": [
    "## Rule synthesis"
   ]
  }
 ],
 "metadata": {
  "kernelspec": {
   "display_name": "z3",
   "language": "python",
   "name": "python3"
  },
  "language_info": {
   "codemirror_mode": {
    "name": "ipython",
    "version": 3
   },
   "file_extension": ".py",
   "mimetype": "text/x-python",
   "name": "python",
   "nbconvert_exporter": "python",
   "pygments_lexer": "ipython3",
   "version": "3.10.13"
  }
 },
 "nbformat": 4,
 "nbformat_minor": 2
}
