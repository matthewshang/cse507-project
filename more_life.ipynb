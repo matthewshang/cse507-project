{
 "cells": [
  {
   "cell_type": "code",
   "execution_count": 10,
   "metadata": {},
   "outputs": [],
   "source": [
    "import itertools\n",
    "from timeit import default_timer as timer\n",
    "import z3\n",
    "from golz3 import *"
   ]
  },
  {
   "cell_type": "markdown",
   "metadata": {},
   "source": [
    "## Forward (sanity check)"
   ]
  },
  {
   "cell_type": "code",
   "execution_count": 11,
   "metadata": {},
   "outputs": [
    {
     "name": "stdout",
     "output_type": "stream",
     "text": [
      "t = 0\n",
      "0 0 0 0 0 \n",
      "0 1 1 0 0 \n",
      "0 1 1 0 0 \n",
      "0 0 0 0 0 \n",
      "0 0 0 0 0 \n",
      "\n",
      "t = 1\n",
      "0 0 0 0 0 \n",
      "0 1 1 0 0 \n",
      "0 1 1 0 0 \n",
      "0 0 0 0 0 \n",
      "0 0 0 0 0 \n",
      "\n",
      "t = 2\n",
      "0 0 0 0 0 \n",
      "0 1 1 0 0 \n",
      "0 1 1 0 0 \n",
      "0 0 0 0 0 \n",
      "0 0 0 0 0 \n",
      "\n",
      "t = 3\n",
      "0 0 0 0 0 \n",
      "0 1 1 0 0 \n",
      "0 1 1 0 0 \n",
      "0 0 0 0 0 \n",
      "0 0 0 0 0 \n",
      "\n"
     ]
    }
   ],
   "source": [
    "# Sanity check: 2x2 grid stays still\n",
    "solver = z3.Solver()\n",
    "state = make_life(solver, grid_size=5, time_steps=4)\n",
    "constrain(solver, state[0], set([(1, 1), (1, 2), (2, 1), (2, 2)]))\n",
    "solver.check()\n",
    "model = solver.model()\n",
    "print_model(model, state)\n"
   ]
  },
  {
   "cell_type": "code",
   "execution_count": 12,
   "metadata": {},
   "outputs": [
    {
     "name": "stdout",
     "output_type": "stream",
     "text": [
      "t = 0\n",
      "0 1 0 \n",
      "0 1 0 \n",
      "0 1 0 \n",
      "\n",
      "t = 1\n",
      "0 0 0 \n",
      "1 1 1 \n",
      "0 0 0 \n",
      "\n",
      "t = 2\n",
      "0 1 0 \n",
      "0 1 0 \n",
      "0 1 0 \n",
      "\n",
      "t = 3\n",
      "0 0 0 \n",
      "1 1 1 \n",
      "0 0 0 \n",
      "\n"
     ]
    }
   ],
   "source": [
    "# Sanity check: 1x3 rotation\n",
    "solver = z3.Solver()\n",
    "state = make_life(solver, grid_size=3, time_steps=4)\n",
    "constrain(solver, state[0], set([(0, 1), (1, 1), (2, 1)]))\n",
    "solver.check()\n",
    "model = solver.model()\n",
    "print_model(model, state)"
   ]
  },
  {
   "cell_type": "code",
   "execution_count": 13,
   "metadata": {},
   "outputs": [
    {
     "name": "stdout",
     "output_type": "stream",
     "text": [
      "t = 0\n",
      "0 1 0 0 0 0 \n",
      "0 0 1 0 0 0 \n",
      "1 1 1 0 0 0 \n",
      "0 0 0 0 0 0 \n",
      "0 0 0 0 0 0 \n",
      "0 0 0 0 0 0 \n",
      "\n",
      "t = 1\n",
      "0 0 0 0 0 0 \n",
      "1 0 1 0 0 0 \n",
      "0 1 1 0 0 0 \n",
      "0 1 0 0 0 0 \n",
      "0 0 0 0 0 0 \n",
      "0 0 0 0 0 0 \n",
      "\n",
      "t = 2\n",
      "0 0 0 0 0 0 \n",
      "0 0 1 0 0 0 \n",
      "1 0 1 0 0 0 \n",
      "0 1 1 0 0 0 \n",
      "0 0 0 0 0 0 \n",
      "0 0 0 0 0 0 \n",
      "\n",
      "t = 3\n",
      "0 0 0 0 0 0 \n",
      "0 1 0 0 0 0 \n",
      "0 0 1 1 0 0 \n",
      "0 1 1 0 0 0 \n",
      "0 0 0 0 0 0 \n",
      "0 0 0 0 0 0 \n",
      "\n",
      "t = 4\n",
      "0 0 0 0 0 0 \n",
      "0 0 1 0 0 0 \n",
      "0 0 0 1 0 0 \n",
      "0 1 1 1 0 0 \n",
      "0 0 0 0 0 0 \n",
      "0 0 0 0 0 0 \n",
      "\n",
      "t = 5\n",
      "0 0 0 0 0 0 \n",
      "0 0 0 0 0 0 \n",
      "0 1 0 1 0 0 \n",
      "0 0 1 1 0 0 \n",
      "0 0 1 0 0 0 \n",
      "0 0 0 0 0 0 \n",
      "\n"
     ]
    }
   ],
   "source": [
    "# Sanity check: glider\n",
    "solver = z3.Solver()\n",
    "state = make_life(solver, grid_size=6, time_steps=6)\n",
    "constrain(solver, state[0], set([(0, 1), (1, 2), (2, 0), (2, 1), (2, 2)]))\n",
    "solver.check()\n",
    "model = solver.model()\n",
    "print_model(model, state)\n"
   ]
  },
  {
   "cell_type": "markdown",
   "metadata": {},
   "source": [
    "### Forward Edge Cases"
   ]
  },
  {
   "cell_type": "code",
   "execution_count": 14,
   "metadata": {},
   "outputs": [
    {
     "ename": "Z3Exception",
     "evalue": "model is not available",
     "output_type": "error",
     "traceback": [
      "\u001b[1;31m---------------------------------------------------------------------------\u001b[0m",
      "\u001b[1;31mZ3Exception\u001b[0m                               Traceback (most recent call last)",
      "File \u001b[1;32mc:\\Users\\tenzi\\miniconda3\\envs\\507proj\\Lib\\site-packages\\z3\\z3.py:7131\u001b[0m, in \u001b[0;36mSolver.model\u001b[1;34m(self)\u001b[0m\n\u001b[0;32m   7130\u001b[0m \u001b[39mtry\u001b[39;00m:\n\u001b[1;32m-> 7131\u001b[0m     \u001b[39mreturn\u001b[39;00m ModelRef(Z3_solver_get_model(\u001b[39mself\u001b[39;49m\u001b[39m.\u001b[39;49mctx\u001b[39m.\u001b[39;49mref(), \u001b[39mself\u001b[39;49m\u001b[39m.\u001b[39;49msolver), \u001b[39mself\u001b[39m\u001b[39m.\u001b[39mctx)\n\u001b[0;32m   7132\u001b[0m \u001b[39mexcept\u001b[39;00m Z3Exception:\n",
      "File \u001b[1;32mc:\\Users\\tenzi\\miniconda3\\envs\\507proj\\Lib\\site-packages\\z3\\z3core.py:4185\u001b[0m, in \u001b[0;36mZ3_solver_get_model\u001b[1;34m(a0, a1, _elems)\u001b[0m\n\u001b[0;32m   4184\u001b[0m r \u001b[39m=\u001b[39m _elems\u001b[39m.\u001b[39mf(a0, a1)\n\u001b[1;32m-> 4185\u001b[0m _elems\u001b[39m.\u001b[39;49mCheck(a0)\n\u001b[0;32m   4186\u001b[0m \u001b[39mreturn\u001b[39;00m r\n",
      "File \u001b[1;32mc:\\Users\\tenzi\\miniconda3\\envs\\507proj\\Lib\\site-packages\\z3\\z3core.py:1505\u001b[0m, in \u001b[0;36mElementaries.Check\u001b[1;34m(self, ctx)\u001b[0m\n\u001b[0;32m   1504\u001b[0m \u001b[39mif\u001b[39;00m err \u001b[39m!=\u001b[39m \u001b[39mself\u001b[39m\u001b[39m.\u001b[39mOK:\n\u001b[1;32m-> 1505\u001b[0m     \u001b[39mraise\u001b[39;00m \u001b[39mself\u001b[39m\u001b[39m.\u001b[39mException(\u001b[39mself\u001b[39m\u001b[39m.\u001b[39mget_error_message(ctx, err))\n",
      "\u001b[1;31mZ3Exception\u001b[0m: b'there is no current model'",
      "\nDuring handling of the above exception, another exception occurred:\n",
      "\u001b[1;31mZ3Exception\u001b[0m                               Traceback (most recent call last)",
      "\u001b[1;32m~\\AppData\\Local\\Temp\\ipykernel_10288\\2677338751.py\u001b[0m in \u001b[0;36m?\u001b[1;34m()\u001b[0m\n\u001b[0;32m     16\u001b[0m \u001b[1;33m\u001b[0m\u001b[0m\n\u001b[0;32m     17\u001b[0m \u001b[0mresult\u001b[0m \u001b[1;33m=\u001b[0m \u001b[0msolver\u001b[0m\u001b[1;33m.\u001b[0m\u001b[0mcheck\u001b[0m\u001b[1;33m(\u001b[0m\u001b[1;33m)\u001b[0m\u001b[1;33m\u001b[0m\u001b[1;33m\u001b[0m\u001b[0m\n\u001b[0;32m     18\u001b[0m \u001b[1;33m\u001b[0m\u001b[0m\n\u001b[0;32m     19\u001b[0m \u001b[1;31m# We expect exception here if constrain_life_boundary is called\u001b[0m\u001b[1;33m\u001b[0m\u001b[1;33m\u001b[0m\u001b[0m\n\u001b[1;32m---> 20\u001b[1;33m \u001b[0mmodel\u001b[0m \u001b[1;33m=\u001b[0m \u001b[0msolver\u001b[0m\u001b[1;33m.\u001b[0m\u001b[0mmodel\u001b[0m\u001b[1;33m(\u001b[0m\u001b[1;33m)\u001b[0m\u001b[1;33m\u001b[0m\u001b[1;33m\u001b[0m\u001b[0m\n\u001b[0m\u001b[0;32m     21\u001b[0m \u001b[0mprint_model\u001b[0m\u001b[1;33m(\u001b[0m\u001b[0mmodel\u001b[0m\u001b[1;33m,\u001b[0m \u001b[0mstate\u001b[0m\u001b[1;33m)\u001b[0m\u001b[1;33m\u001b[0m\u001b[1;33m\u001b[0m\u001b[0m\n",
      "\u001b[1;32mc:\\Users\\tenzi\\miniconda3\\envs\\507proj\\Lib\\site-packages\\z3\\z3.py\u001b[0m in \u001b[0;36m?\u001b[1;34m(self)\u001b[0m\n\u001b[0;32m   7129\u001b[0m         \"\"\"\n\u001b[0;32m   7130\u001b[0m         \u001b[1;32mtry\u001b[0m\u001b[1;33m:\u001b[0m\u001b[1;33m\u001b[0m\u001b[1;33m\u001b[0m\u001b[0m\n\u001b[0;32m   7131\u001b[0m             \u001b[1;32mreturn\u001b[0m \u001b[0mModelRef\u001b[0m\u001b[1;33m(\u001b[0m\u001b[0mZ3_solver_get_model\u001b[0m\u001b[1;33m(\u001b[0m\u001b[0mself\u001b[0m\u001b[1;33m.\u001b[0m\u001b[0mctx\u001b[0m\u001b[1;33m.\u001b[0m\u001b[0mref\u001b[0m\u001b[1;33m(\u001b[0m\u001b[1;33m)\u001b[0m\u001b[1;33m,\u001b[0m \u001b[0mself\u001b[0m\u001b[1;33m.\u001b[0m\u001b[0msolver\u001b[0m\u001b[1;33m)\u001b[0m\u001b[1;33m,\u001b[0m \u001b[0mself\u001b[0m\u001b[1;33m.\u001b[0m\u001b[0mctx\u001b[0m\u001b[1;33m)\u001b[0m\u001b[1;33m\u001b[0m\u001b[1;33m\u001b[0m\u001b[0m\n\u001b[0;32m   7132\u001b[0m         \u001b[1;32mexcept\u001b[0m \u001b[0mZ3Exception\u001b[0m\u001b[1;33m:\u001b[0m\u001b[1;33m\u001b[0m\u001b[1;33m\u001b[0m\u001b[0m\n\u001b[1;32m-> 7133\u001b[1;33m             \u001b[1;32mraise\u001b[0m \u001b[0mZ3Exception\u001b[0m\u001b[1;33m(\u001b[0m\u001b[1;34m\"model is not available\"\u001b[0m\u001b[1;33m)\u001b[0m\u001b[1;33m\u001b[0m\u001b[1;33m\u001b[0m\u001b[0m\n\u001b[0m",
      "\u001b[1;31mZ3Exception\u001b[0m: model is not available"
     ]
    }
   ],
   "source": [
    "# Edge case: Example of where forward can fail (Tenzin: this has implications\n",
    "# for the results we get from backwards queries too, i.e.: we can get\n",
    "# incorrect sequences I'm pretty sure).\n",
    "# This spinner on the bottom should spin indefinitely, so on t=2, it\n",
    "# should go back to the bottom being set, however instead the solver\n",
    "# predicts that we die out.\n",
    "# One solution is to add a constraint on the imaginary boundary cells,\n",
    "# asserting that they never come alive.\n",
    "solver = z3.Solver()\n",
    "state = make_life(solver, grid_size=35, time_steps=3)\n",
    "constrain(solver, state[0], set([(0, 0), (0, 1), (0, 2)]))\n",
    "\n",
    "# With this line solver will fail to find solution because we enforce that\n",
    "# cells outside play area are never used. (i.e.: exception is expected)\n",
    "golz3.constrain_life_boundary(solver, state)\n",
    "\n",
    "result = solver.check()\n",
    "\n",
    "try:\n",
    "    # We expect exception here if constrain_life_boundary is called\n",
    "    model = solver.model()\n",
    "    print_model(model, state)\n",
    "except Exception as e:\n",
    "    print(e)"
   ]
  },
  {
   "cell_type": "markdown",
   "metadata": {},
   "source": [
    "## Backwards"
   ]
  },
  {
   "cell_type": "code",
   "execution_count": 15,
   "metadata": {},
   "outputs": [
    {
     "name": "stdout",
     "output_type": "stream",
     "text": [
      "t = 0\n",
      "1 1 0 0 0 \n",
      "1 1 1 1 0 \n",
      "0 1 0 0 0 \n",
      "1 0 0 0 0 \n",
      "0 0 0 0 0 \n",
      "\n",
      "t = 1\n",
      "1 0 0 0 0 \n",
      "0 0 0 0 0 \n",
      "0 0 0 0 0 \n",
      "0 0 0 0 0 \n",
      "0 0 0 0 0 \n",
      "\n"
     ]
    }
   ],
   "source": [
    "# Backwards: 3x3 corner\n",
    "solver = z3.Solver()\n",
    "state = make_life(solver, grid_size=5, time_steps=2)\n",
    "constrain(solver, state[-1], set([(0,0)]))\n",
    "solver.check()\n",
    "model = solver.model()\n",
    "print_model(model, state)"
   ]
  },
  {
   "cell_type": "code",
   "execution_count": 16,
   "metadata": {},
   "outputs": [
    {
     "name": "stdout",
     "output_type": "stream",
     "text": [
      "t = 0\n",
      "1 0 1 0 0 1 \n",
      "1 1 0 1 1 0 \n",
      "0 0 0 1 0 0 \n",
      "1 1 1 0 0 1 \n",
      "1 0 1 1 1 1 \n",
      "0 0 0 0 1 1 \n",
      "\n",
      "t = 1\n",
      "1 0 1 1 1 0 \n",
      "1 1 0 1 1 0 \n",
      "0 0 0 1 0 0 \n",
      "1 0 0 0 0 1 \n",
      "1 0 1 0 0 0 \n",
      "0 0 0 0 0 1 \n",
      "\n",
      "t = 2\n",
      "1 0 1 0 1 0 \n",
      "1 1 0 0 0 0 \n",
      "1 1 1 1 0 0 \n",
      "0 1 0 0 0 0 \n",
      "0 1 0 0 0 0 \n",
      "0 0 0 0 0 0 \n",
      "1 1 0 1 1 0 \n",
      "0 0 1 1 1 0 \n",
      "1 1 0 1 0 0 \n",
      "0 0 1 0 0 0 \n",
      "0 0 1 0 0 0 \n",
      "\n",
      "t = 3\n",
      "1 0 0 0 0 0 \n",
      "0 0 0 0 0 0 \n",
      "0 0 0 0 0 0 \n",
      "0 0 0 0 0 0 \n",
      "0 0 0 0 0 0 \n",
      "0 0 0 0 0 0 \n",
      "\n"
     ]
    }
   ],
   "source": [
    "# Backwards: smiley\n",
    "solver = z3.Solver()\n",
    "state = make_life(solver, grid_size=6, time_steps=4)\n",
    "constrain(solver, state[-1], set([(0,0)]))\n",
    "solver.check()\n",
    "model = solver.model()\n",
    "print_model(model, state)\n"
   ]
  },
  {
   "cell_type": "code",
   "execution_count": 17,
   "metadata": {},
   "outputs": [
    {
     "name": "stdout",
     "output_type": "stream",
     "text": [
      "t = 0\n",
      "1 1 0 0 0 0 \n",
      "1 0 0 1 1 0 \n",
      "0 0 0 0 0 1 \n",
      "0 1 0 1 0 1 \n",
      "0 1 0 0 0 1 \n",
      "0 0 1 1 1 0 \n",
      "\n",
      "t = 1\n",
      "1 1 0 0 0 0 \n",
      "1 1 0 0 1 0 \n",
      "0 0 1 1 0 1 \n",
      "0 0 1 0 0 1 \n",
      "0 1 0 0 0 1 \n",
      "0 0 1 1 1 0 \n",
      "\n",
      "t = 2\n",
      "1 1 0 0 0 0 \n",
      "1 0 0 1 1 0 \n",
      "0 0 1 1 0 1 \n",
      "0 1 1 1 0 1 \n",
      "0 1 0 0 0 1 \n",
      "0 0 1 1 1 0 \n",
      "\n",
      "t = 3\n",
      "1 1 0 0 0 0 \n",
      "1 0 0 1 1 0 \n",
      "0 0 0 0 0 1 \n",
      "0 1 0 1 0 1 \n",
      "0 1 0 0 0 1 \n",
      "0 0 1 1 1 0 \n",
      "\n"
     ]
    }
   ],
   "source": [
    "# Glider discovery\n",
    "solver = z3.Solver()\n",
    "state = make_life(solver, grid_size=6, time_steps=4)\n",
    "for i in range(6):\n",
    "    for j in range(6):\n",
    "        solver.add(state[0][i][j] == state[-1][i][j])\n",
    "solver.add(state[0][1][1] != state[1][1][1])\n",
    "solver.check()\n",
    "model = solver.model()\n",
    "print_model(model, state)"
   ]
  },
  {
   "cell_type": "code",
   "execution_count": 24,
   "metadata": {},
   "outputs": [
    {
     "name": "stdout",
     "output_type": "stream",
     "text": [
      "Solve Time: 9.88486s\n",
      "t = 0\n",
      "1 0 1 1 1 1 1 0 1 1 0 1 0 0 0 0 1 0 0 0 1 1 1 0 1 \n",
      "0 0 1 1 0 1 1 1 0 1 1 0 0 0 0 0 0 0 1 1 1 1 0 1 1 \n",
      "0 0 1 0 1 1 1 0 0 1 1 1 1 1 1 0 0 0 0 0 1 0 0 1 1 \n",
      "0 1 0 0 1 0 1 0 0 1 0 0 1 1 1 1 1 1 0 1 1 1 1 1 0 \n",
      "0 0 0 0 1 0 1 0 0 0 1 0 0 0 1 0 1 1 1 1 1 0 1 0 0 \n",
      "1 1 1 0 0 0 0 0 0 1 1 1 0 1 1 1 1 1 1 1 1 1 1 1 1 \n",
      "0 0 1 0 0 1 0 1 1 0 1 0 0 1 1 0 1 1 1 1 1 1 1 0 0 \n",
      "0 0 1 0 0 1 1 0 0 0 0 1 0 1 1 1 1 1 0 0 1 0 0 0 0 \n",
      "0 0 1 0 0 0 0 0 0 0 0 0 0 1 0 0 1 1 1 0 1 0 1 0 0 \n",
      "0 0 1 0 0 0 0 1 0 0 0 0 0 1 1 1 0 0 1 0 1 0 1 0 0 \n",
      "1 0 1 1 1 1 0 0 0 1 0 1 1 1 0 0 0 1 0 0 0 1 0 1 1 \n",
      "0 0 0 0 1 1 1 0 1 1 0 1 1 0 1 0 1 1 0 0 1 0 0 1 1 \n",
      "1 0 0 1 1 0 1 1 1 0 1 0 0 0 0 0 0 0 0 0 1 0 1 1 0 \n",
      "1 1 0 0 0 0 0 0 0 1 1 0 0 1 1 0 0 1 1 1 1 0 1 1 0 \n",
      "0 0 0 1 0 0 1 1 0 0 0 0 0 1 0 1 1 1 0 1 1 1 0 1 0 \n",
      "1 0 0 1 1 0 0 1 0 0 1 0 1 0 1 1 1 1 1 1 1 1 0 0 0 \n",
      "0 1 1 0 1 0 0 0 1 1 1 0 0 0 0 1 1 1 1 0 0 1 0 1 0 \n",
      "1 0 1 1 0 0 1 1 0 1 1 1 0 0 0 1 1 0 0 0 0 1 0 1 0 \n",
      "0 0 0 1 1 0 0 0 1 1 1 0 1 0 0 0 1 0 1 0 0 0 0 0 0 \n",
      "0 1 1 0 0 1 1 1 1 1 1 0 0 0 0 1 1 1 0 0 0 0 0 0 1 \n",
      "0 0 0 1 1 1 1 1 1 1 1 1 1 0 0 1 1 0 0 0 1 0 0 0 0 \n",
      "0 0 0 1 1 1 1 1 1 0 1 1 1 1 1 1 1 0 0 0 1 0 0 0 0 \n",
      "1 0 1 1 1 1 1 1 1 1 1 0 1 1 0 1 0 0 0 0 0 0 0 0 0 \n",
      "0 1 1 1 1 1 1 1 1 1 1 1 1 0 0 1 0 0 0 0 0 1 0 0 0 \n",
      "1 1 1 1 1 1 1 1 1 1 1 1 0 1 0 0 0 0 0 0 1 0 0 0 0 \n",
      "\n",
      "t = 1\n",
      "0 1 1 0 0 0 0 0 1 1 0 0 0 0 0 0 0 0 0 0 0 0 1 0 1 \n",
      "0 0 0 0 0 0 0 0 0 0 0 0 0 1 0 0 0 0 0 0 0 0 0 0 0 \n",
      "0 1 1 0 0 0 0 0 0 0 0 0 0 0 0 0 1 1 0 0 0 0 0 0 0 \n",
      "0 0 0 0 1 0 1 1 0 1 0 0 0 0 0 0 0 0 0 0 0 0 0 0 1 \n",
      "1 0 1 1 0 0 0 0 0 0 0 0 0 0 0 0 0 0 0 0 0 0 0 0 1 \n",
      "0 1 1 1 0 1 1 1 1 0 0 1 1 0 0 0 0 0 0 0 0 0 0 0 0 \n",
      "0 0 1 1 0 1 0 1 1 0 0 0 0 0 0 0 0 0 0 0 0 0 0 0 0 \n",
      "0 1 1 1 0 1 1 1 0 0 0 0 0 0 0 0 0 0 0 0 0 0 1 0 0 \n",
      "0 1 1 1 0 0 1 0 0 0 0 0 0 0 0 0 0 0 1 0 1 0 0 0 0 \n",
      "0 0 1 0 1 0 0 0 0 0 0 0 0 0 0 1 0 0 1 0 1 0 1 0 0 \n",
      "0 1 1 0 0 0 0 1 0 1 0 1 0 0 0 0 0 1 1 1 1 1 0 0 1 \n",
      "0 1 1 0 0 0 0 0 0 0 0 0 0 0 0 0 1 1 0 0 1 0 0 0 0 \n",
      "1 1 0 1 1 0 1 0 0 0 0 0 1 0 1 1 1 0 0 0 1 0 0 0 0 \n",
      "1 1 1 1 1 1 0 0 0 1 1 0 0 1 1 1 0 1 0 0 0 0 0 0 1 \n",
      "1 1 1 1 1 0 1 1 1 1 1 1 1 0 0 0 0 0 0 0 0 0 0 1 0 \n",
      "0 1 0 0 1 1 1 1 0 0 1 1 0 1 0 0 0 0 0 0 0 0 0 0 0 \n",
      "1 0 0 0 1 1 1 0 0 0 0 0 0 0 0 0 0 0 0 0 0 1 0 0 0 \n",
      "0 0 0 0 0 1 0 1 0 0 0 0 0 0 0 0 0 0 1 0 0 0 0 0 0 \n",
      "0 0 0 0 1 0 0 0 0 0 0 0 0 0 0 0 0 0 0 0 0 0 0 0 0 \n",
      "0 0 1 0 0 0 0 0 0 0 0 0 1 0 0 0 0 0 0 0 0 0 0 0 0 \n",
      "0 0 0 0 0 0 0 0 0 0 0 0 0 0 0 0 0 0 0 0 0 0 0 0 0 \n",
      "0 0 0 0 0 0 0 0 0 0 0 0 0 0 0 0 0 0 0 0 0 0 0 0 0 \n",
      "0 0 0 0 0 0 0 0 0 0 0 0 0 0 0 0 0 0 0 0 0 0 0 0 0 \n",
      "0 0 0 0 0 0 0 0 0 0 0 0 0 0 0 0 0 0 0 0 0 0 0 0 0 \n",
      "1 0 0 0 0 0 0 0 0 0 0 0 0 0 0 0 0 0 0 0 0 0 0 0 0 \n",
      "\n",
      "t = 2\n",
      "1 1 1 0 1 1 0 0 0 0 0 0 0 0 0 0 1 1 0 0 0 0 0 0 0 \n",
      "1 1 1 1 0 1 1 1 1 0 0 0 0 0 1 0 0 0 0 0 1 0 0 0 0 \n",
      "0 0 1 1 1 0 0 1 1 0 0 1 1 0 0 0 0 0 1 0 0 0 0 0 1 \n",
      "1 1 0 1 1 1 0 0 1 1 0 0 0 0 0 0 0 0 1 1 0 1 1 0 0 \n",
      "0 0 1 0 0 1 0 0 1 0 1 1 0 1 1 0 1 0 0 0 0 1 0 1 0 \n",
      "1 0 1 1 1 1 0 1 1 0 1 0 1 1 1 1 0 0 1 0 0 0 0 0 0 \n",
      "1 0 1 1 0 0 0 0 0 0 1 1 1 1 0 0 1 0 0 1 0 0 0 0 0 \n",
      "0 1 0 0 0 0 0 1 0 1 0 1 0 0 0 0 1 0 0 1 0 0 0 0 0 \n",
      "0 0 0 1 0 0 1 1 0 0 0 0 1 1 0 0 0 0 1 1 1 0 0 0 0 \n",
      "1 1 0 0 1 0 1 1 1 1 1 0 1 0 0 1 0 0 1 0 0 0 1 1 0 \n",
      "0 1 0 1 1 1 1 1 0 1 1 0 1 1 0 1 1 0 0 1 0 0 0 0 0 \n",
      "0 1 0 0 1 1 0 0 0 0 0 0 1 0 0 0 1 0 0 1 0 1 1 0 0 \n",
      "0 1 1 0 0 1 0 1 0 1 0 0 0 0 0 1 0 0 0 1 0 1 0 0 0 \n",
      "0 1 0 1 1 1 1 0 1 1 0 1 1 0 0 0 0 1 1 0 0 0 1 0 0 \n",
      "0 1 1 1 1 0 0 0 0 0 0 1 1 0 1 1 0 0 0 1 0 0 1 0 0 \n",
      "0 1 0 0 0 0 0 1 0 1 0 0 1 0 1 1 0 1 1 1 0 1 0 0 0 \n",
      "1 0 0 1 0 0 1 1 0 0 1 0 0 0 1 1 1 0 0 0 0 0 1 1 1 \n",
      "1 0 0 1 0 0 1 0 0 0 0 0 0 0 1 1 1 0 0 1 0 0 1 1 0 \n",
      "0 0 1 0 0 0 0 0 1 0 1 0 0 0 0 1 0 0 0 0 1 1 0 1 0 \n",
      "0 1 0 0 1 1 0 1 0 0 0 1 0 0 0 0 1 0 0 0 0 1 1 1 0 \n",
      "0 0 0 1 1 0 0 1 1 0 0 0 0 0 0 1 1 1 0 1 0 0 1 1 1 \n",
      "0 1 1 1 1 0 1 0 1 0 0 0 1 0 1 0 1 0 0 0 0 0 1 1 1 \n",
      "0 0 0 1 0 0 1 0 1 0 0 1 0 0 0 0 0 0 0 1 0 1 1 1 0 \n",
      "0 0 0 1 1 1 0 0 0 1 0 1 1 0 0 0 1 0 1 1 1 1 0 1 0 \n",
      "1 0 0 1 1 0 1 1 0 1 0 1 1 0 0 0 1 0 1 0 0 1 1 1 0 \n",
      "\n",
      "t = 3\n",
      "1 0 0 0 1 1 0 1 0 0 0 0 0 0 0 0 0 0 0 0 0 0 0 0 0 \n",
      "1 0 0 0 0 0 0 0 1 0 0 0 0 0 0 0 0 1 0 0 0 0 0 0 0 \n",
      "0 0 0 0 0 0 0 0 0 0 0 0 0 0 0 0 0 0 1 0 1 1 0 0 0 \n",
      "0 1 0 0 0 1 1 0 0 0 0 0 0 1 0 0 0 1 1 1 1 1 1 1 0 \n",
      "1 0 0 0 0 0 0 0 0 0 1 1 0 0 0 0 0 1 1 1 1 1 0 0 0 \n",
      "0 0 0 0 0 1 1 1 1 0 0 0 0 0 0 0 1 1 0 0 0 0 0 0 0 \n",
      "1 0 0 0 0 0 1 1 0 0 0 0 0 0 0 0 1 1 1 1 0 0 0 0 0 \n",
      "0 1 0 1 0 0 1 1 1 0 0 0 0 0 0 0 0 1 0 0 0 0 0 0 0 \n",
      "1 1 1 0 0 1 0 0 0 0 0 0 1 1 0 0 0 1 1 0 1 0 0 0 0 \n",
      "1 1 0 0 0 0 0 0 0 0 1 0 0 0 0 1 1 1 1 0 1 0 0 0 0 \n",
      "0 1 0 1 0 0 0 0 0 0 1 0 1 1 1 1 1 1 1 1 1 1 0 1 0 \n",
      "1 1 0 0 0 0 0 1 0 1 1 1 1 1 1 0 1 0 1 1 0 1 1 0 0 \n",
      "1 1 0 0 0 0 0 1 0 1 1 1 1 0 0 0 1 1 0 1 0 1 0 0 0 \n",
      "1 0 0 0 0 0 1 1 1 1 0 1 1 1 1 1 1 0 1 1 1 1 1 0 0 \n",
      "1 1 0 0 0 0 1 1 0 1 0 0 0 0 1 1 0 0 0 1 1 1 1 0 0 \n",
      "1 1 0 0 1 0 1 1 1 0 1 0 1 0 0 0 0 1 1 1 1 1 0 0 0 \n",
      "1 1 1 0 0 0 1 1 1 0 0 0 0 0 0 0 0 0 0 1 1 1 0 0 1 \n",
      "0 1 1 1 0 0 1 0 0 1 0 0 0 0 0 0 0 0 0 0 1 0 0 0 0 \n",
      "0 1 1 1 1 1 1 1 0 0 0 0 0 0 1 0 0 0 0 0 1 0 0 0 1 \n",
      "0 0 1 0 1 1 1 1 0 1 0 0 0 0 0 0 0 1 0 0 0 0 0 0 0 \n",
      "0 1 0 0 0 0 0 0 1 0 0 0 0 0 0 0 0 1 0 0 0 0 0 0 0 \n",
      "0 0 0 0 0 0 1 0 1 1 0 0 0 0 0 0 1 1 1 0 1 0 0 0 0 \n",
      "0 0 0 0 0 0 1 0 1 1 1 1 0 1 0 1 0 1 1 1 0 0 0 0 0 \n",
      "0 0 1 0 0 0 0 0 0 1 0 0 0 0 0 0 0 0 1 0 0 0 0 0 1 \n",
      "0 0 0 1 0 0 1 0 1 0 0 1 1 0 0 0 0 0 1 0 0 1 0 1 0 \n",
      "\n",
      "t = 4\n",
      "0 0 0 0 0 0 0 0 0 0 0 0 0 0 0 0 0 0 0 0 0 0 0 0 0 \n",
      "0 0 0 0 0 0 0 0 0 0 0 0 0 0 0 0 0 0 0 0 0 0 0 0 0 \n",
      "0 0 0 0 0 0 0 0 0 0 0 0 0 0 0 0 0 0 0 0 0 0 0 0 0 \n",
      "0 0 0 0 0 0 0 0 0 0 0 0 0 0 0 0 0 0 0 0 0 0 0 0 0 \n",
      "0 0 0 0 0 0 0 0 0 0 0 0 0 0 0 0 0 0 0 0 0 0 0 0 0 \n",
      "0 0 0 0 0 1 0 0 1 0 0 0 0 0 0 0 0 0 0 0 0 0 0 0 0 \n",
      "0 0 0 0 0 0 0 0 0 0 0 0 0 0 0 0 0 0 0 0 0 0 0 0 0 \n",
      "0 0 0 0 0 1 0 0 1 0 0 0 0 0 0 0 0 0 0 0 0 0 0 0 0 \n",
      "0 0 0 0 0 0 1 1 0 0 0 0 0 0 0 0 0 0 0 0 0 0 0 0 0 \n",
      "0 0 0 0 0 0 0 0 0 0 0 0 0 0 0 0 0 0 0 0 0 0 0 0 0 \n",
      "0 0 0 0 0 0 0 0 0 0 0 0 0 0 0 0 0 0 0 0 0 0 0 0 0 \n",
      "0 0 0 0 0 0 0 0 0 0 0 0 0 0 0 0 0 0 0 0 0 0 0 0 0 \n",
      "0 0 0 0 0 0 0 0 0 0 0 0 0 0 0 0 0 0 0 0 0 0 0 0 0 \n",
      "0 0 0 0 0 0 0 0 0 0 0 0 0 0 0 0 0 0 0 0 0 0 0 0 0 \n",
      "0 0 0 0 0 0 0 0 0 0 0 0 0 0 0 0 0 0 0 0 0 0 0 0 0 \n",
      "0 0 0 0 0 0 0 0 0 0 0 0 0 0 0 0 0 0 0 0 0 0 0 0 0 \n",
      "0 0 0 0 0 0 0 0 0 0 0 0 0 0 0 0 0 0 0 0 0 0 0 0 0 \n",
      "0 0 0 0 0 0 0 0 0 0 0 0 0 0 0 0 0 0 0 0 0 0 0 0 0 \n",
      "0 0 0 0 0 0 0 0 0 0 0 0 0 0 0 0 0 0 0 0 0 0 0 0 0 \n",
      "0 0 0 0 0 0 0 0 0 0 0 0 0 0 0 0 0 0 0 0 0 0 0 0 0 \n",
      "0 0 0 0 0 0 0 0 0 0 0 0 0 0 0 0 0 0 0 0 0 0 0 0 0 \n",
      "0 0 0 0 0 0 0 0 0 0 0 0 0 0 0 0 0 0 0 0 0 0 0 0 0 \n",
      "0 0 0 0 0 0 0 0 0 0 0 0 0 0 0 0 0 0 0 0 0 0 0 0 0 \n",
      "0 0 0 0 0 0 0 0 0 0 0 0 0 0 0 0 0 0 0 0 0 0 0 0 0 \n",
      "0 0 0 0 0 0 0 0 0 0 0 0 0 0 0 0 0 0 0 0 0 0 0 0 0 \n",
      "\n"
     ]
    }
   ],
   "source": [
    "# Backwards: big smiley\n",
    "solver = z3.Solver()\n",
    "n = 25\n",
    "state = make_life(solver, grid_size=n, time_steps=5)\n",
    "constrain(solver, state[-1], set([(5, 5), (5, 8), (7, 5), (7, 8), (8, 6), (8, 7)]))\n",
    "# for t in range(3):\n",
    "#     solver.add(sum([state[t][i][j] for j in range(n) for i in range(n)]) <= 20)\n",
    "start = timer()\n",
    "solver.check()\n",
    "end = timer()\n",
    "print(f\"Solve Time: {end - start:.5f}s\")\n",
    "model = solver.model()\n",
    "print_model(model, state)"
   ]
  },
  {
   "cell_type": "code",
   "execution_count": 26,
   "metadata": {},
   "outputs": [],
   "source": [
    "from matplotlib import pyplot as plt\n",
    "import tqdm\n",
    "\n",
    "def run_backwards_experiment(grid_size, time_steps):\n",
    "    solver = z3.Solver()\n",
    "    start = timer()\n",
    "    state = make_life(solver, grid_size, time_steps)\n",
    "    constrain(solver, state[-1], set([(5, 5), (5, 8), (7, 5), (7, 8), (8, 6), (8, 7)]))\n",
    "    mid = timer()\n",
    "    assert(solver.check() == z3.sat)\n",
    "    end = timer()\n",
    "    # print(f\"Solve Time: {end - mid:.5f}s; Build Time: {mid - start:.5f}\")\n",
    "    return end - mid, mid - start\n"
   ]
  },
  {
   "cell_type": "code",
   "execution_count": 16,
   "metadata": {},
   "outputs": [
    {
     "name": "stderr",
     "output_type": "stream",
     "text": [
      " 80%|████████  | 4/5 [00:32<00:10, 10.45s/it]"
     ]
    },
    {
     "ename": "AssertionError",
     "evalue": "",
     "output_type": "error",
     "traceback": [
      "\u001b[0;31m---------------------------------------------------------------------------\u001b[0m",
      "\u001b[0;31mAssertionError\u001b[0m                            Traceback (most recent call last)",
      "\u001b[1;32m/Users/matthew/cse507-project/more_life.ipynb Cell 11\u001b[0m line \u001b[0;36m2\n\u001b[1;32m      <a href='vscode-notebook-cell:/Users/matthew/cse507-project/more_life.ipynb#X23sZmlsZQ%3D%3D?line=0'>1</a>\u001b[0m time_steps \u001b[39m=\u001b[39m \u001b[39mlist\u001b[39m(\u001b[39mrange\u001b[39m(\u001b[39m2\u001b[39m, \u001b[39m7\u001b[39m))\n\u001b[0;32m----> <a href='vscode-notebook-cell:/Users/matthew/cse507-project/more_life.ipynb#X23sZmlsZQ%3D%3D?line=1'>2</a>\u001b[0m scale_timestep \u001b[39m=\u001b[39m [run_backwards_experiment(\u001b[39m25\u001b[39m, t) \u001b[39mfor\u001b[39;00m t \u001b[39min\u001b[39;00m tqdm\u001b[39m.\u001b[39mtqdm(time_steps)]\n\u001b[1;32m      <a href='vscode-notebook-cell:/Users/matthew/cse507-project/more_life.ipynb#X23sZmlsZQ%3D%3D?line=2'>3</a>\u001b[0m plt\u001b[39m.\u001b[39mscatter(time_steps, [t[\u001b[39m0\u001b[39m] \u001b[39mfor\u001b[39;00m t \u001b[39min\u001b[39;00m scale_timestep], label\u001b[39m=\u001b[39m\u001b[39m\"\u001b[39m\u001b[39mSolve Time\u001b[39m\u001b[39m\"\u001b[39m)\n\u001b[1;32m      <a href='vscode-notebook-cell:/Users/matthew/cse507-project/more_life.ipynb#X23sZmlsZQ%3D%3D?line=3'>4</a>\u001b[0m plt\u001b[39m.\u001b[39mscatter(time_steps, [t[\u001b[39m1\u001b[39m] \u001b[39mfor\u001b[39;00m t \u001b[39min\u001b[39;00m scale_timestep], label\u001b[39m=\u001b[39m\u001b[39m\"\u001b[39m\u001b[39mBuild Time\u001b[39m\u001b[39m\"\u001b[39m)\n",
      "\u001b[1;32m/Users/matthew/cse507-project/more_life.ipynb Cell 11\u001b[0m line \u001b[0;36m2\n\u001b[1;32m      <a href='vscode-notebook-cell:/Users/matthew/cse507-project/more_life.ipynb#X23sZmlsZQ%3D%3D?line=0'>1</a>\u001b[0m time_steps \u001b[39m=\u001b[39m \u001b[39mlist\u001b[39m(\u001b[39mrange\u001b[39m(\u001b[39m2\u001b[39m, \u001b[39m7\u001b[39m))\n\u001b[0;32m----> <a href='vscode-notebook-cell:/Users/matthew/cse507-project/more_life.ipynb#X23sZmlsZQ%3D%3D?line=1'>2</a>\u001b[0m scale_timestep \u001b[39m=\u001b[39m [run_backwards_experiment(\u001b[39m25\u001b[39;49m, t) \u001b[39mfor\u001b[39;00m t \u001b[39min\u001b[39;00m tqdm\u001b[39m.\u001b[39mtqdm(time_steps)]\n\u001b[1;32m      <a href='vscode-notebook-cell:/Users/matthew/cse507-project/more_life.ipynb#X23sZmlsZQ%3D%3D?line=2'>3</a>\u001b[0m plt\u001b[39m.\u001b[39mscatter(time_steps, [t[\u001b[39m0\u001b[39m] \u001b[39mfor\u001b[39;00m t \u001b[39min\u001b[39;00m scale_timestep], label\u001b[39m=\u001b[39m\u001b[39m\"\u001b[39m\u001b[39mSolve Time\u001b[39m\u001b[39m\"\u001b[39m)\n\u001b[1;32m      <a href='vscode-notebook-cell:/Users/matthew/cse507-project/more_life.ipynb#X23sZmlsZQ%3D%3D?line=3'>4</a>\u001b[0m plt\u001b[39m.\u001b[39mscatter(time_steps, [t[\u001b[39m1\u001b[39m] \u001b[39mfor\u001b[39;00m t \u001b[39min\u001b[39;00m scale_timestep], label\u001b[39m=\u001b[39m\u001b[39m\"\u001b[39m\u001b[39mBuild Time\u001b[39m\u001b[39m\"\u001b[39m)\n",
      "\u001b[1;32m/Users/matthew/cse507-project/more_life.ipynb Cell 11\u001b[0m line \u001b[0;36m1\n\u001b[1;32m      <a href='vscode-notebook-cell:/Users/matthew/cse507-project/more_life.ipynb#X23sZmlsZQ%3D%3D?line=7'>8</a>\u001b[0m constrain(solver, state[\u001b[39m-\u001b[39m\u001b[39m1\u001b[39m], \u001b[39mset\u001b[39m([(\u001b[39m5\u001b[39m, \u001b[39m5\u001b[39m), (\u001b[39m5\u001b[39m, \u001b[39m8\u001b[39m), (\u001b[39m7\u001b[39m, \u001b[39m5\u001b[39m), (\u001b[39m7\u001b[39m, \u001b[39m8\u001b[39m), (\u001b[39m8\u001b[39m, \u001b[39m6\u001b[39m), (\u001b[39m8\u001b[39m, \u001b[39m7\u001b[39m)]))\n\u001b[1;32m      <a href='vscode-notebook-cell:/Users/matthew/cse507-project/more_life.ipynb#X23sZmlsZQ%3D%3D?line=8'>9</a>\u001b[0m mid \u001b[39m=\u001b[39m timer()\n\u001b[0;32m---> <a href='vscode-notebook-cell:/Users/matthew/cse507-project/more_life.ipynb#X23sZmlsZQ%3D%3D?line=9'>10</a>\u001b[0m \u001b[39massert\u001b[39;00m(solver\u001b[39m.\u001b[39mcheck() \u001b[39m==\u001b[39m z3\u001b[39m.\u001b[39msat)\n\u001b[1;32m     <a href='vscode-notebook-cell:/Users/matthew/cse507-project/more_life.ipynb#X23sZmlsZQ%3D%3D?line=10'>11</a>\u001b[0m end \u001b[39m=\u001b[39m timer()\n\u001b[1;32m     <a href='vscode-notebook-cell:/Users/matthew/cse507-project/more_life.ipynb#X23sZmlsZQ%3D%3D?line=11'>12</a>\u001b[0m \u001b[39m# print(f\"Solve Time: {end - mid:.5f}s; Build Time: {mid - start:.5f}\")\u001b[39;00m\n",
      "\u001b[0;31mAssertionError\u001b[0m: "
     ]
    }
   ],
   "source": [
    "\n",
    "time_steps = list(range(2, 7))\n",
    "scale_timestep = [run_backwards_experiment(25, t) for t in tqdm.tqdm(time_steps)]\n",
    "plt.scatter(time_steps, [t[0] for t in scale_timestep], label=\"Solve Time\")\n",
    "plt.scatter(time_steps, [t[1] for t in scale_timestep], label=\"Build Time\")"
   ]
  },
  {
   "cell_type": "code",
   "execution_count": 27,
   "metadata": {},
   "outputs": [
    {
     "name": "stderr",
     "output_type": "stream",
     "text": [
      "100%|██████████| 35/35 [01:02<00:00,  1.77s/it]\n"
     ]
    },
    {
     "data": {
      "text/plain": [
       "<matplotlib.collections.PathCollection at 0x1111670d0>"
      ]
     },
     "execution_count": 27,
     "metadata": {},
     "output_type": "execute_result"
    },
    {
     "data": {
      "image/png": "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",
      "text/plain": [
       "<Figure size 640x480 with 1 Axes>"
      ]
     },
     "metadata": {},
     "output_type": "display_data"
    }
   ],
   "source": [
    "grid_sizes = list(range(10, 45))\n",
    "scale_size = [run_backwards_experiment(g, 2) for g in tqdm.tqdm(grid_sizes)]\n",
    "plt.scatter(grid_sizes, [t[0] for t in scale_size], label=\"Solve Time\")\n",
    "plt.scatter(grid_sizes, [t[1] for t in scale_size], label=\"Build Time\")\n"
   ]
  },
  {
   "cell_type": "code",
   "execution_count": 28,
   "metadata": {},
   "outputs": [
    {
     "name": "stdout",
     "output_type": "stream",
     "text": [
      "(6.628061791881919, 1.7142558749765158)\n"
     ]
    }
   ],
   "source": [
    "print(run_backwards_experiment(50, 2))"
   ]
  },
  {
   "cell_type": "markdown",
   "metadata": {},
   "source": [
    "## Garden of Eden"
   ]
  },
  {
   "cell_type": "code",
   "execution_count": 19,
   "metadata": {},
   "outputs": [
    {
     "ename": "NameError",
     "evalue": "name 'unsat' is not defined",
     "output_type": "error",
     "traceback": [
      "\u001b[0;31m---------------------------------------------------------------------------\u001b[0m",
      "\u001b[0;31mNameError\u001b[0m                                 Traceback (most recent call last)",
      "\u001b[1;32m/Users/matthew/cse507-project/more_life.ipynb Cell 12\u001b[0m line \u001b[0;36m2\n\u001b[1;32m     <a href='vscode-notebook-cell:/Users/matthew/cse507-project/more_life.ipynb#X13sZmlsZQ%3D%3D?line=19'>20</a>\u001b[0m on \u001b[39m=\u001b[39m \u001b[39mset\u001b[39m([(i \u001b[39m+\u001b[39m \u001b[39m1\u001b[39m, j \u001b[39m+\u001b[39m \u001b[39m1\u001b[39m) \u001b[39mfor\u001b[39;00m i, row \u001b[39min\u001b[39;00m \u001b[39menumerate\u001b[39m(pat\u001b[39m.\u001b[39msplit()) \u001b[39mfor\u001b[39;00m j, c \u001b[39min\u001b[39;00m \u001b[39menumerate\u001b[39m(row) \u001b[39mif\u001b[39;00m c \u001b[39m==\u001b[39m \u001b[39m'\u001b[39m\u001b[39m1\u001b[39m\u001b[39m'\u001b[39m])\n\u001b[1;32m     <a href='vscode-notebook-cell:/Users/matthew/cse507-project/more_life.ipynb#X13sZmlsZQ%3D%3D?line=20'>21</a>\u001b[0m constrain(solver, state[\u001b[39m-\u001b[39m\u001b[39m1\u001b[39m], on)\n\u001b[0;32m---> <a href='vscode-notebook-cell:/Users/matthew/cse507-project/more_life.ipynb#X13sZmlsZQ%3D%3D?line=21'>22</a>\u001b[0m \u001b[39massert\u001b[39;00m(solver\u001b[39m.\u001b[39mcheck() \u001b[39m==\u001b[39m unsat)\n",
      "\u001b[0;31mNameError\u001b[0m: name 'unsat' is not defined"
     ]
    }
   ],
   "source": [
    "# Known GoE from wikipedia\n",
    "\n",
    "pat = \"\"\"\n",
    "010110110010\n",
    "001011101110\n",
    "001101110101\n",
    "010111011101\n",
    "111110011110\n",
    "011011101001\n",
    "011101010010\n",
    "011011100110\n",
    "101110111010\n",
    "100110010101\n",
    "000000000010\n",
    "000000000000\n",
    "\"\"\"\n",
    "\n",
    "solver = z3.Solver()\n",
    "state = make_life(solver, grid_size = 14, time_steps = 2)\n",
    "on = set([(i + 1, j + 1) for i, row in enumerate(pat.split()) for j, c in enumerate(row) if c == '1'])\n",
    "constrain(solver, state[-1], on)\n",
    "assert(solver.check() == z3.unsat)"
   ]
  },
  {
   "cell_type": "code",
   "execution_count": 20,
   "metadata": {},
   "outputs": [],
   "source": [
    "# Exhaustive search for Gardens of Eden\n",
    "def all_grids(n):\n",
    "    mask = 0\n",
    "    while mask < 1 << (n * n):\n",
    "        on = set([(i, j) for i in range(n) for j in range(n) if mask & (1 << (i * n + j))])\n",
    "        yield on\n",
    "        mask += 1\n",
    "\n",
    "n = 3\n",
    "for grid in all_grids(n):\n",
    "    solver = z3.Solver()\n",
    "    state = make_life(solver, grid_size=n+2, time_steps=2)\n",
    "    offset_grid = set([(i + 1, j + 1) for i, j in grid])\n",
    "    constrain(solver, state[-1], offset_grid)\n",
    "    if solver.check() == z3.unsat:\n",
    "        # If UNSAT it means we've found a Garden of Eden. At the scales we should be\n",
    "        # able to feasibly run this problem at it probably means we've done something\n",
    "        # wrong if we can find a Garden of Eden lol.\n",
    "        print(f\"Garden of Eden found for {grid}\")\n",
    "        model = solver.model()\n",
    "        print_model(model, state)"
   ]
  },
  {
   "cell_type": "code",
   "execution_count": 21,
   "metadata": {},
   "outputs": [],
   "source": [
    "# Incremental exhaustive search\n",
    "\n",
    "def next(i, j):\n",
    "    j += 1\n",
    "    if j == n:\n",
    "        i += 1\n",
    "        j = 0\n",
    "    return i, j\n",
    "\n",
    "def remaining_grid(n, i, j):\n",
    "    cells = []\n",
    "    while i < n:\n",
    "        cells.append((i, j))\n",
    "        i, j = next(i, j)\n",
    "    return cells\n",
    "\n",
    "def traverse(n):\n",
    "    yield []\n",
    "    def visit(n, i, j):\n",
    "        next_i, next_j = next(i, j)\n",
    "        if next_i != n:\n",
    "            yield from visit(n, next_i, next_j)\n",
    "\n",
    "        if next_i == n:\n",
    "            yield [(i, j, 1)]\n",
    "        else:\n",
    "            yield [(i, j, 1)] + list(map(lambda pos: pos + (0,), remaining_grid(n, next_i, next_j)))\n",
    "            yield from visit(n, next_i, next_j)\n",
    "    yield from visit(n, 0, 0)\n",
    "\n",
    "\n",
    "n = 3\n",
    "solver = z3.Solver()\n",
    "state = make_life(solver, grid_size=n+2, time_steps=2)\n",
    "end = state[-1]\n",
    "for i, j in remaining_grid(n, 0, 0):\n",
    "    solver.push()\n",
    "    solver.add(end[i][j] == 0)\n",
    "\n",
    "for updates in traverse(n):\n",
    "    for _ in updates:\n",
    "        solver.pop()\n",
    "    for i, j, val in updates:\n",
    "        solver.push()\n",
    "        solver.add(end[i + 1][j + 1] == val)\n",
    "    if solver.check() == unsat:\n",
    "        print(f\"no solution\")"
   ]
  },
  {
   "cell_type": "markdown",
   "metadata": {},
   "source": [
    "## Rule synthesis"
   ]
  },
  {
   "cell_type": "code",
   "execution_count": null,
   "metadata": {},
   "outputs": [],
   "source": []
  }
 ],
 "metadata": {
  "kernelspec": {
   "display_name": "z3",
   "language": "python",
   "name": "python3"
  },
  "language_info": {
   "codemirror_mode": {
    "name": "ipython",
    "version": 3
   },
   "file_extension": ".py",
   "mimetype": "text/x-python",
   "name": "python",
   "nbconvert_exporter": "python",
   "pygments_lexer": "ipython3",
<<<<<<< Updated upstream
   "version": "3.11.6"
=======
   "version": "3.10.13"
>>>>>>> Stashed changes
  }
 },
 "nbformat": 4,
 "nbformat_minor": 2
}
