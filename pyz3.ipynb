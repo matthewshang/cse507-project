{
 "cells": [
  {
   "cell_type": "code",
   "execution_count": 1,
   "metadata": {},
   "outputs": [
    {
     "name": "stdout",
     "output_type": "stream",
     "text": [
      "[u_0_0 = 1,\n",
      " u_0_2 = 0,\n",
      " u_1_2 = 0,\n",
      " u_2_1 = 1,\n",
      " u_1_1 = 0,\n",
      " u_0_1 = 0,\n",
      " u_1_0 = 0,\n",
      " u_2_0 = 1,\n",
      " u_2_2 = 0]\n"
     ]
    }
   ],
   "source": [
    "\"\"\"\n",
    "This file demonstrates a trivial simple inverse reachability problem\n",
    "for a single cell in Conway's Game of Life (starting from a 3x3 pre state).\n",
    "\n",
    "i.e.: is there some 3x3 state such that after one time step the center square\n",
    "is in the requested state? (If so, get a model and display it).\n",
    "\"\"\"\n",
    "\n",
    "from z3 import *\n",
    "\n",
    "v = 1\n",
    "u = [[Int('u_%s_%s' % (i, j)) for j in range(3)] for i in range(3)]\n",
    "s = Solver()\n",
    "\n",
    "count = sum([u[i][j] for i in range(3) for j in range(3) if (i, j) != (1, 1)])\n",
    "s.add(Implies(And(u[1][1] == 1, v == 0), Or(count < 2, count > 3)))\n",
    "s.add(Implies(And(u[1][1] == 1, v == 1), Or(count == 2, count == 3)))\n",
    "s.add(Implies(And(u[1][1] == 0, v == 1), count == 3))\n",
    "s.add(Implies(And(u[1][1] == 0, v == 0), count != 3))\n",
    "\n",
    "s.add(count > 2)\n",
    "\n",
    "for i in range(3):\n",
    "    for j in range(3):\n",
    "        s.add(Or(u[i][j] == 0, u[i][j] == 1))\n",
    "\n",
    "s.check()\n",
    "print(s.model())"
   ]
  },
  {
   "cell_type": "code",
   "execution_count": 11,
   "metadata": {},
   "outputs": [
    {
     "name": "stdout",
     "output_type": "stream",
     "text": [
      "pymodel: [[1, 0, 0], [0, 0, 0], [1, 1, 0]]\n",
      "1\t0\t0\n",
      "0\t0\t0\n",
      "1\t1\t0\n"
     ]
    }
   ],
   "source": [
    "model = s.model()\n",
    "\n",
    "# We can inspect variables in the model by accessing the model like a dict (passing in\n",
    "# the symbolic variable who's interpretation we want to see)\n",
    "model[u[0][0]]\n",
    "\n",
    "# This allows us to pretty print a better grid.\n",
    "\n",
    "# First create a Python native grid representation of the model:\n",
    "pymodel = []\n",
    "for row in u:\n",
    "    newrow = []\n",
    "    for const in row:\n",
    "        newrow.append(model[const])\n",
    "    pymodel.append(newrow)\n",
    "\n",
    "print(f\"pymodel: {pymodel}\")\n",
    "\n",
    "# Returns a string which provides a nice looking representation of a 2D list\n",
    "def pretty_matrix(matrix) -> str:\n",
    "    # https://stackoverflow.com/questions/13214809/pretty-print-2d-list\n",
    "    return '\\n'.join(['\\t'.join([str(cell) for cell in row]) for row in matrix])\n",
    "\n",
    "print(pretty_matrix(pymodel))"
   ]
  }
 ],
 "metadata": {
  "kernelspec": {
   "display_name": "z3",
   "language": "python",
   "name": "python3"
  },
  "language_info": {
   "codemirror_mode": {
    "name": "ipython",
    "version": 3
   },
   "file_extension": ".py",
   "mimetype": "text/x-python",
   "name": "python",
   "nbconvert_exporter": "python",
   "pygments_lexer": "ipython3",
   "version": "3.8.3"
  }
 },
 "nbformat": 4,
 "nbformat_minor": 2
}
