{
 "cells": [
  {
   "cell_type": "code",
   "execution_count": 31,
   "metadata": {},
   "outputs": [
    {
     "name": "stdout",
     "output_type": "stream",
     "text": [
      "[u_2_2 = 1,\n",
      " u_0_0 = 0,\n",
      " u_0_2 = 1,\n",
      " u_1_2 = 0,\n",
      " u_2_1 = 0,\n",
      " u_1_1 = 0,\n",
      " u_0_1 = 0,\n",
      " u_1_0 = 0,\n",
      " u_2_0 = 1]\n"
     ]
    }
   ],
   "source": [
    "from z3 import *\n",
    "\n",
    "v = 1\n",
    "u = [[Int('u_%s_%s' % (i, j)) for j in range(3)] for i in range(3)]\n",
    "s = Solver()\n",
    "\n",
    "count = sum([u[i][j] for i in range(3) for j in range(3) if (i, j) != (1, 1)])\n",
    "s.add(Implies(And(u[1][1] == 1, v == 0), Or(count < 2, count > 3)))\n",
    "s.add(Implies(And(u[1][1] == 1, v == 1), Or(count == 2, count == 3)))\n",
    "s.add(Implies(And(u[1][1] == 0, v == 1), count == 3))\n",
    "s.add(Implies(And(u[1][1] == 0, v == 0), count != 3))\n",
    "\n",
    "s.add(count > 2)\n",
    "\n",
    "for i in range(3):\n",
    "    for j in range(3):\n",
    "        s.add(Or(u[i][j] == 0, u[i][j] == 1))\n",
    "\n",
    "s.check()\n",
    "print(s.model())"
   ]
  }
 ],
 "metadata": {
  "kernelspec": {
   "display_name": "z3",
   "language": "python",
   "name": "python3"
  },
  "language_info": {
   "codemirror_mode": {
    "name": "ipython",
    "version": 3
   },
   "file_extension": ".py",
   "mimetype": "text/x-python",
   "name": "python",
   "nbconvert_exporter": "python",
   "pygments_lexer": "ipython3",
   "version": "3.10.13"
  }
 },
 "nbformat": 4,
 "nbformat_minor": 2
}
